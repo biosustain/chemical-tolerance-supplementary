{
 "cells": [
  {
   "cell_type": "markdown",
   "metadata": {},
   "source": [
    "This notebook contains code for doing GWAS regressions using the PyStan software."
   ]
  },
  {
   "cell_type": "code",
   "execution_count": 1,
   "metadata": {
    "collapsed": false
   },
   "outputs": [],
   "source": [
    "import pandas as pd\n",
    "import json\n",
    "import pystan\n",
    "from scipy import stats"
   ]
  },
  {
   "cell_type": "code",
   "execution_count": 12,
   "metadata": {
    "collapsed": true
   },
   "outputs": [],
   "source": [
    "growth_df = pd.read_csv(\"../Data/Growth_data/Cross_tolerance/Processed_growth_rates.tsv\", sep=\"\\t\", index_col=0)\n",
    "\n",
    "with open(\"../Data/Mutation_data/Strain_to_genes.json\") as infile:\n",
    "    genotypes = json.load(infile)\n",
    "gene_to_strains = {}\n",
    "for s, genes in genotypes.items():\n",
    "    for gene in genes:\n",
    "        gene_to_strains.setdefault(gene, []).append(s)\n",
    "gene_list = sorted(gene_to_strains)\n",
    "\n",
    "with open(\"../Data/Mutation_data/Mutations_to_gene_names.json\") as infile:\n",
    "    mut_to_genes = json.load(infile)\n",
    "gene_to_muts = {}\n",
    "for mut, genes in mut_to_genes.items():\n",
    "    for gene in genes:\n",
    "        gene_to_muts.setdefault(gene, []).append(mut)"
   ]
  },
  {
   "cell_type": "code",
   "execution_count": 4,
   "metadata": {
    "collapsed": false
   },
   "outputs": [],
   "source": [
    "gwas_df = growth_df.copy()\n",
    "gwas_df = gwas_df.groupby([\"strain\", \"grown_compound\"]).mean().reset_index()\n",
    "gwas_df = gwas_df[pd.notnull(gwas_df[\"rel_growth_rate\"])]\n",
    "gwas_genes = []\n",
    "for gene in gene_list:\n",
    "    if len(gene_to_strains[gene]) > 1:\n",
    "        gwas_genes.append(gene)\n",
    "        gwas_df[gene] = gwas_df[\"strain\"].map(lambda x: 1 if x in gene_to_strains[gene] else 0)"
   ]
  },
  {
   "cell_type": "code",
   "execution_count": 5,
   "metadata": {
    "collapsed": true
   },
   "outputs": [],
   "source": [
    "# Define the regression model\n",
    "\n",
    "stan_model = \"\"\"\n",
    "data {\n",
    "    int N; // Number of observations\n",
    "    int M; // Number of genes\n",
    "    vector[N] y; // Growth rates\n",
    "    matrix[N, M] X; // Mutation data\n",
    "}\n",
    "\n",
    "parameters {\n",
    "    vector[M] beta; // coefficients\n",
    "    real intercept; // intercept of the fit\n",
    "    real log_sigma; // Measuring STD\n",
    "    real log_tau; // Hyperparameter: STD of prior on betas\n",
    "}\n",
    "\n",
    "model {\n",
    "    // increment_log_prob(normal_log(beta, 0, exp(log_tau)) + double_exponential_log(beta, 0, exp(log_tau)));\n",
    "    // beta ~ double_exponential(0, exp(log_tau));\n",
    "    beta ~ normal(0, exp(log_tau));\n",
    "    y ~ normal(intercept + X*beta, exp(log_sigma));\n",
    "}\n",
    "\n",
    "\"\"\""
   ]
  },
  {
   "cell_type": "code",
   "execution_count": 6,
   "metadata": {
    "collapsed": false
   },
   "outputs": [
    {
     "name": "stderr",
     "output_type": "stream",
     "text": [
      "INFO:pystan:COMPILING THE C++ CODE FOR MODEL anon_model_ad6b17b3e0394de93c979fff36836b1b NOW.\n"
     ]
    },
    {
     "name": "stdout",
     "output_type": "stream",
     "text": [
      "HMDA\n"
     ]
    },
    {
     "name": "stderr",
     "output_type": "stream",
     "text": [
      "/Users/krisj/anaconda/envs/tolerance/lib/python3.5/multiprocessing/reduction.py:50: UserWarning: Pickling fit objects is an experimental feature!\n",
      "The relevant StanModel instance must be pickled along with this fit object.\n",
      "When unpickling the StanModel must be unpickled first.\n",
      "  cls(buf, protocol).dump(obj)\n",
      "/Users/krisj/anaconda/envs/tolerance/lib/python3.5/multiprocessing/reduction.py:50: UserWarning: Pickling fit objects is an experimental feature!\n",
      "The relevant StanModel instance must be pickled along with this fit object.\n",
      "When unpickling the StanModel must be unpickled first.\n",
      "  cls(buf, protocol).dump(obj)\n",
      "/Users/krisj/anaconda/envs/tolerance/lib/python3.5/multiprocessing/reduction.py:50: UserWarning: Pickling fit objects is an experimental feature!\n",
      "The relevant StanModel instance must be pickled along with this fit object.\n",
      "When unpickling the StanModel must be unpickled first.\n",
      "  cls(buf, protocol).dump(obj)\n",
      "/Users/krisj/anaconda/envs/tolerance/lib/python3.5/multiprocessing/reduction.py:50: UserWarning: Pickling fit objects is an experimental feature!\n",
      "The relevant StanModel instance must be pickled along with this fit object.\n",
      "When unpickling the StanModel must be unpickled first.\n",
      "  cls(buf, protocol).dump(obj)\n",
      "INFO:pystan:COMPILING THE C++ CODE FOR MODEL anon_model_ad6b17b3e0394de93c979fff36836b1b NOW.\n"
     ]
    },
    {
     "name": "stdout",
     "output_type": "stream",
     "text": [
      "putrescine\n"
     ]
    },
    {
     "name": "stderr",
     "output_type": "stream",
     "text": [
      "/Users/krisj/anaconda/envs/tolerance/lib/python3.5/multiprocessing/reduction.py:50: UserWarning: Pickling fit objects is an experimental feature!\n",
      "The relevant StanModel instance must be pickled along with this fit object.\n",
      "When unpickling the StanModel must be unpickled first.\n",
      "  cls(buf, protocol).dump(obj)\n",
      "/Users/krisj/anaconda/envs/tolerance/lib/python3.5/multiprocessing/reduction.py:50: UserWarning: Pickling fit objects is an experimental feature!\n",
      "The relevant StanModel instance must be pickled along with this fit object.\n",
      "When unpickling the StanModel must be unpickled first.\n",
      "  cls(buf, protocol).dump(obj)\n",
      "/Users/krisj/anaconda/envs/tolerance/lib/python3.5/multiprocessing/reduction.py:50: UserWarning: Pickling fit objects is an experimental feature!\n",
      "The relevant StanModel instance must be pickled along with this fit object.\n",
      "When unpickling the StanModel must be unpickled first.\n",
      "  cls(buf, protocol).dump(obj)\n",
      "/Users/krisj/anaconda/envs/tolerance/lib/python3.5/multiprocessing/reduction.py:50: UserWarning: Pickling fit objects is an experimental feature!\n",
      "The relevant StanModel instance must be pickled along with this fit object.\n",
      "When unpickling the StanModel must be unpickled first.\n",
      "  cls(buf, protocol).dump(obj)\n",
      "INFO:pystan:COMPILING THE C++ CODE FOR MODEL anon_model_ad6b17b3e0394de93c979fff36836b1b NOW.\n"
     ]
    },
    {
     "name": "stdout",
     "output_type": "stream",
     "text": [
      "1,2-propanediol\n"
     ]
    },
    {
     "name": "stderr",
     "output_type": "stream",
     "text": [
      "/Users/krisj/anaconda/envs/tolerance/lib/python3.5/multiprocessing/reduction.py:50: UserWarning: Pickling fit objects is an experimental feature!\n",
      "The relevant StanModel instance must be pickled along with this fit object.\n",
      "When unpickling the StanModel must be unpickled first.\n",
      "  cls(buf, protocol).dump(obj)\n",
      "/Users/krisj/anaconda/envs/tolerance/lib/python3.5/multiprocessing/reduction.py:50: UserWarning: Pickling fit objects is an experimental feature!\n",
      "The relevant StanModel instance must be pickled along with this fit object.\n",
      "When unpickling the StanModel must be unpickled first.\n",
      "  cls(buf, protocol).dump(obj)\n",
      "/Users/krisj/anaconda/envs/tolerance/lib/python3.5/multiprocessing/reduction.py:50: UserWarning: Pickling fit objects is an experimental feature!\n",
      "The relevant StanModel instance must be pickled along with this fit object.\n",
      "When unpickling the StanModel must be unpickled first.\n",
      "  cls(buf, protocol).dump(obj)\n",
      "/Users/krisj/anaconda/envs/tolerance/lib/python3.5/multiprocessing/reduction.py:50: UserWarning: Pickling fit objects is an experimental feature!\n",
      "The relevant StanModel instance must be pickled along with this fit object.\n",
      "When unpickling the StanModel must be unpickled first.\n",
      "  cls(buf, protocol).dump(obj)\n",
      "INFO:pystan:COMPILING THE C++ CODE FOR MODEL anon_model_ad6b17b3e0394de93c979fff36836b1b NOW.\n"
     ]
    },
    {
     "name": "stdout",
     "output_type": "stream",
     "text": [
      "2,3-butanediol\n"
     ]
    },
    {
     "name": "stderr",
     "output_type": "stream",
     "text": [
      "/Users/krisj/anaconda/envs/tolerance/lib/python3.5/multiprocessing/reduction.py:50: UserWarning: Pickling fit objects is an experimental feature!\n",
      "The relevant StanModel instance must be pickled along with this fit object.\n",
      "When unpickling the StanModel must be unpickled first.\n",
      "  cls(buf, protocol).dump(obj)\n",
      "/Users/krisj/anaconda/envs/tolerance/lib/python3.5/multiprocessing/reduction.py:50: UserWarning: Pickling fit objects is an experimental feature!\n",
      "The relevant StanModel instance must be pickled along with this fit object.\n",
      "When unpickling the StanModel must be unpickled first.\n",
      "  cls(buf, protocol).dump(obj)\n",
      "/Users/krisj/anaconda/envs/tolerance/lib/python3.5/multiprocessing/reduction.py:50: UserWarning: Pickling fit objects is an experimental feature!\n",
      "The relevant StanModel instance must be pickled along with this fit object.\n",
      "When unpickling the StanModel must be unpickled first.\n",
      "  cls(buf, protocol).dump(obj)\n",
      "/Users/krisj/anaconda/envs/tolerance/lib/python3.5/multiprocessing/reduction.py:50: UserWarning: Pickling fit objects is an experimental feature!\n",
      "The relevant StanModel instance must be pickled along with this fit object.\n",
      "When unpickling the StanModel must be unpickled first.\n",
      "  cls(buf, protocol).dump(obj)\n",
      "INFO:pystan:COMPILING THE C++ CODE FOR MODEL anon_model_ad6b17b3e0394de93c979fff36836b1b NOW.\n"
     ]
    },
    {
     "name": "stdout",
     "output_type": "stream",
     "text": [
      "glutarate\n"
     ]
    },
    {
     "name": "stderr",
     "output_type": "stream",
     "text": [
      "/Users/krisj/anaconda/envs/tolerance/lib/python3.5/multiprocessing/reduction.py:50: UserWarning: Pickling fit objects is an experimental feature!\n",
      "The relevant StanModel instance must be pickled along with this fit object.\n",
      "When unpickling the StanModel must be unpickled first.\n",
      "  cls(buf, protocol).dump(obj)\n",
      "/Users/krisj/anaconda/envs/tolerance/lib/python3.5/multiprocessing/reduction.py:50: UserWarning: Pickling fit objects is an experimental feature!\n",
      "The relevant StanModel instance must be pickled along with this fit object.\n",
      "When unpickling the StanModel must be unpickled first.\n",
      "  cls(buf, protocol).dump(obj)\n",
      "/Users/krisj/anaconda/envs/tolerance/lib/python3.5/multiprocessing/reduction.py:50: UserWarning: Pickling fit objects is an experimental feature!\n",
      "The relevant StanModel instance must be pickled along with this fit object.\n",
      "When unpickling the StanModel must be unpickled first.\n",
      "  cls(buf, protocol).dump(obj)\n",
      "/Users/krisj/anaconda/envs/tolerance/lib/python3.5/multiprocessing/reduction.py:50: UserWarning: Pickling fit objects is an experimental feature!\n",
      "The relevant StanModel instance must be pickled along with this fit object.\n",
      "When unpickling the StanModel must be unpickled first.\n",
      "  cls(buf, protocol).dump(obj)\n",
      "INFO:pystan:COMPILING THE C++ CODE FOR MODEL anon_model_ad6b17b3e0394de93c979fff36836b1b NOW.\n"
     ]
    },
    {
     "name": "stdout",
     "output_type": "stream",
     "text": [
      "adipate\n"
     ]
    },
    {
     "name": "stderr",
     "output_type": "stream",
     "text": [
      "/Users/krisj/anaconda/envs/tolerance/lib/python3.5/multiprocessing/reduction.py:50: UserWarning: Pickling fit objects is an experimental feature!\n",
      "The relevant StanModel instance must be pickled along with this fit object.\n",
      "When unpickling the StanModel must be unpickled first.\n",
      "  cls(buf, protocol).dump(obj)\n",
      "/Users/krisj/anaconda/envs/tolerance/lib/python3.5/multiprocessing/reduction.py:50: UserWarning: Pickling fit objects is an experimental feature!\n",
      "The relevant StanModel instance must be pickled along with this fit object.\n",
      "When unpickling the StanModel must be unpickled first.\n",
      "  cls(buf, protocol).dump(obj)\n",
      "/Users/krisj/anaconda/envs/tolerance/lib/python3.5/multiprocessing/reduction.py:50: UserWarning: Pickling fit objects is an experimental feature!\n",
      "The relevant StanModel instance must be pickled along with this fit object.\n",
      "When unpickling the StanModel must be unpickled first.\n",
      "  cls(buf, protocol).dump(obj)\n",
      "/Users/krisj/anaconda/envs/tolerance/lib/python3.5/multiprocessing/reduction.py:50: UserWarning: Pickling fit objects is an experimental feature!\n",
      "The relevant StanModel instance must be pickled along with this fit object.\n",
      "When unpickling the StanModel must be unpickled first.\n",
      "  cls(buf, protocol).dump(obj)\n",
      "INFO:pystan:COMPILING THE C++ CODE FOR MODEL anon_model_ad6b17b3e0394de93c979fff36836b1b NOW.\n"
     ]
    },
    {
     "name": "stdout",
     "output_type": "stream",
     "text": [
      "hexanoate\n"
     ]
    },
    {
     "name": "stderr",
     "output_type": "stream",
     "text": [
      "/Users/krisj/anaconda/envs/tolerance/lib/python3.5/multiprocessing/reduction.py:50: UserWarning: Pickling fit objects is an experimental feature!\n",
      "The relevant StanModel instance must be pickled along with this fit object.\n",
      "When unpickling the StanModel must be unpickled first.\n",
      "  cls(buf, protocol).dump(obj)\n",
      "/Users/krisj/anaconda/envs/tolerance/lib/python3.5/multiprocessing/reduction.py:50: UserWarning: Pickling fit objects is an experimental feature!\n",
      "The relevant StanModel instance must be pickled along with this fit object.\n",
      "When unpickling the StanModel must be unpickled first.\n",
      "  cls(buf, protocol).dump(obj)\n",
      "/Users/krisj/anaconda/envs/tolerance/lib/python3.5/multiprocessing/reduction.py:50: UserWarning: Pickling fit objects is an experimental feature!\n",
      "The relevant StanModel instance must be pickled along with this fit object.\n",
      "When unpickling the StanModel must be unpickled first.\n",
      "  cls(buf, protocol).dump(obj)\n",
      "/Users/krisj/anaconda/envs/tolerance/lib/python3.5/multiprocessing/reduction.py:50: UserWarning: Pickling fit objects is an experimental feature!\n",
      "The relevant StanModel instance must be pickled along with this fit object.\n",
      "When unpickling the StanModel must be unpickled first.\n",
      "  cls(buf, protocol).dump(obj)\n",
      "INFO:pystan:COMPILING THE C++ CODE FOR MODEL anon_model_ad6b17b3e0394de93c979fff36836b1b NOW.\n"
     ]
    },
    {
     "name": "stdout",
     "output_type": "stream",
     "text": [
      "octanoate\n"
     ]
    },
    {
     "name": "stderr",
     "output_type": "stream",
     "text": [
      "/Users/krisj/anaconda/envs/tolerance/lib/python3.5/multiprocessing/reduction.py:50: UserWarning: Pickling fit objects is an experimental feature!\n",
      "The relevant StanModel instance must be pickled along with this fit object.\n",
      "When unpickling the StanModel must be unpickled first.\n",
      "  cls(buf, protocol).dump(obj)\n",
      "/Users/krisj/anaconda/envs/tolerance/lib/python3.5/multiprocessing/reduction.py:50: UserWarning: Pickling fit objects is an experimental feature!\n",
      "The relevant StanModel instance must be pickled along with this fit object.\n",
      "When unpickling the StanModel must be unpickled first.\n",
      "  cls(buf, protocol).dump(obj)\n",
      "/Users/krisj/anaconda/envs/tolerance/lib/python3.5/multiprocessing/reduction.py:50: UserWarning: Pickling fit objects is an experimental feature!\n",
      "The relevant StanModel instance must be pickled along with this fit object.\n",
      "When unpickling the StanModel must be unpickled first.\n",
      "  cls(buf, protocol).dump(obj)\n",
      "/Users/krisj/anaconda/envs/tolerance/lib/python3.5/multiprocessing/reduction.py:50: UserWarning: Pickling fit objects is an experimental feature!\n",
      "The relevant StanModel instance must be pickled along with this fit object.\n",
      "When unpickling the StanModel must be unpickled first.\n",
      "  cls(buf, protocol).dump(obj)\n",
      "INFO:pystan:COMPILING THE C++ CODE FOR MODEL anon_model_ad6b17b3e0394de93c979fff36836b1b NOW.\n"
     ]
    },
    {
     "name": "stdout",
     "output_type": "stream",
     "text": [
      "isobutyrate\n"
     ]
    },
    {
     "name": "stderr",
     "output_type": "stream",
     "text": [
      "/Users/krisj/anaconda/envs/tolerance/lib/python3.5/multiprocessing/reduction.py:50: UserWarning: Pickling fit objects is an experimental feature!\n",
      "The relevant StanModel instance must be pickled along with this fit object.\n",
      "When unpickling the StanModel must be unpickled first.\n",
      "  cls(buf, protocol).dump(obj)\n",
      "/Users/krisj/anaconda/envs/tolerance/lib/python3.5/multiprocessing/reduction.py:50: UserWarning: Pickling fit objects is an experimental feature!\n",
      "The relevant StanModel instance must be pickled along with this fit object.\n",
      "When unpickling the StanModel must be unpickled first.\n",
      "  cls(buf, protocol).dump(obj)\n",
      "/Users/krisj/anaconda/envs/tolerance/lib/python3.5/multiprocessing/reduction.py:50: UserWarning: Pickling fit objects is an experimental feature!\n",
      "The relevant StanModel instance must be pickled along with this fit object.\n",
      "When unpickling the StanModel must be unpickled first.\n",
      "  cls(buf, protocol).dump(obj)\n",
      "/Users/krisj/anaconda/envs/tolerance/lib/python3.5/multiprocessing/reduction.py:50: UserWarning: Pickling fit objects is an experimental feature!\n",
      "The relevant StanModel instance must be pickled along with this fit object.\n",
      "When unpickling the StanModel must be unpickled first.\n",
      "  cls(buf, protocol).dump(obj)\n",
      "INFO:pystan:COMPILING THE C++ CODE FOR MODEL anon_model_ad6b17b3e0394de93c979fff36836b1b NOW.\n"
     ]
    },
    {
     "name": "stdout",
     "output_type": "stream",
     "text": [
      "coumarate\n"
     ]
    },
    {
     "name": "stderr",
     "output_type": "stream",
     "text": [
      "/Users/krisj/anaconda/envs/tolerance/lib/python3.5/multiprocessing/reduction.py:50: UserWarning: Pickling fit objects is an experimental feature!\n",
      "The relevant StanModel instance must be pickled along with this fit object.\n",
      "When unpickling the StanModel must be unpickled first.\n",
      "  cls(buf, protocol).dump(obj)\n",
      "/Users/krisj/anaconda/envs/tolerance/lib/python3.5/multiprocessing/reduction.py:50: UserWarning: Pickling fit objects is an experimental feature!\n",
      "The relevant StanModel instance must be pickled along with this fit object.\n",
      "When unpickling the StanModel must be unpickled first.\n",
      "  cls(buf, protocol).dump(obj)\n",
      "/Users/krisj/anaconda/envs/tolerance/lib/python3.5/multiprocessing/reduction.py:50: UserWarning: Pickling fit objects is an experimental feature!\n",
      "The relevant StanModel instance must be pickled along with this fit object.\n",
      "When unpickling the StanModel must be unpickled first.\n",
      "  cls(buf, protocol).dump(obj)\n",
      "/Users/krisj/anaconda/envs/tolerance/lib/python3.5/multiprocessing/reduction.py:50: UserWarning: Pickling fit objects is an experimental feature!\n",
      "The relevant StanModel instance must be pickled along with this fit object.\n",
      "When unpickling the StanModel must be unpickled first.\n",
      "  cls(buf, protocol).dump(obj)\n",
      "INFO:pystan:COMPILING THE C++ CODE FOR MODEL anon_model_ad6b17b3e0394de93c979fff36836b1b NOW.\n"
     ]
    },
    {
     "name": "stdout",
     "output_type": "stream",
     "text": [
      "butanol\n"
     ]
    },
    {
     "name": "stderr",
     "output_type": "stream",
     "text": [
      "/Users/krisj/anaconda/envs/tolerance/lib/python3.5/multiprocessing/reduction.py:50: UserWarning: Pickling fit objects is an experimental feature!\n",
      "The relevant StanModel instance must be pickled along with this fit object.\n",
      "When unpickling the StanModel must be unpickled first.\n",
      "  cls(buf, protocol).dump(obj)\n",
      "/Users/krisj/anaconda/envs/tolerance/lib/python3.5/multiprocessing/reduction.py:50: UserWarning: Pickling fit objects is an experimental feature!\n",
      "The relevant StanModel instance must be pickled along with this fit object.\n",
      "When unpickling the StanModel must be unpickled first.\n",
      "  cls(buf, protocol).dump(obj)\n",
      "/Users/krisj/anaconda/envs/tolerance/lib/python3.5/multiprocessing/reduction.py:50: UserWarning: Pickling fit objects is an experimental feature!\n",
      "The relevant StanModel instance must be pickled along with this fit object.\n",
      "When unpickling the StanModel must be unpickled first.\n",
      "  cls(buf, protocol).dump(obj)\n",
      "/Users/krisj/anaconda/envs/tolerance/lib/python3.5/multiprocessing/reduction.py:50: UserWarning: Pickling fit objects is an experimental feature!\n",
      "The relevant StanModel instance must be pickled along with this fit object.\n",
      "When unpickling the StanModel must be unpickled first.\n",
      "  cls(buf, protocol).dump(obj)\n"
     ]
    }
   ],
   "source": [
    "compound_list = [\n",
    "    \"HMDA\", \"putrescine\", \"1,2-propanediol\", \"2,3-butanediol\",\n",
    "    \"glutarate\", \"adipate\", \"hexanoate\", \"octanoate\", \"isobutyrate\", \"coumarate\", \"butanol\"]\n",
    "\n",
    "chains = 4\n",
    "\n",
    "stan_data_list = []\n",
    "\n",
    "fits = {}\n",
    "for comp in compound_list:\n",
    "    print(comp)\n",
    "    compound_df = gwas_df[gwas_df[\"grown_compound\"] == comp]\n",
    "\n",
    "    y = compound_df[\"rel_growth_rate\"].values\n",
    "    X = compound_df[gwas_genes]\n",
    "    X = X - X.mean()\n",
    "    X = X.values\n",
    "\n",
    "    stan_data = {\n",
    "        \"N\": len(y),\n",
    "        \"M\": X.shape[1],\n",
    "        \"y\": y,\n",
    "        \"X\": X\n",
    "    }\n",
    "    stan_data_list.append(stan_data)\n",
    "    fit = pystan.stan(model_code=stan_model, data=stan_data, chains=chains, n_jobs=chains, iter=500)\n",
    "    fits[comp] = fit"
   ]
  },
  {
   "cell_type": "code",
   "execution_count": 7,
   "metadata": {
    "collapsed": false
   },
   "outputs": [],
   "source": [
    "def calc_significance(ar, b=0):\n",
    "    perc = stats.percentileofscore(ar, b)\n",
    "    perc = min(perc, 100-perc)\n",
    "    perc = perc*2\n",
    "    perc = perc / 100\n",
    "    if perc == 0:\n",
    "        perc = 1/len(ar)\n",
    "    return perc\n",
    "\n",
    "p_values = {}\n",
    "coef_means = {}\n",
    "for comp, fit in fits.items():\n",
    "    samples = fit.extract()\n",
    "    pvals = dict(pd.Series((calc_significance(samples[\"beta\"][:, i]) for i in range(len(gwas_genes))), index=gwas_genes))\n",
    "    p_values[comp] = pvals\n",
    "    means = dict(pd.Series(samples[\"beta\"].mean(0), index=gwas_genes))\n",
    "    coef_means[comp] = means\n",
    "        \n",
    "p_val_df = pd.DataFrame(p_values)[compound_list]\n",
    "coef_mean_df = pd.DataFrame(coef_means)[compound_list]"
   ]
  },
  {
   "cell_type": "code",
   "execution_count": 8,
   "metadata": {
    "collapsed": true
   },
   "outputs": [],
   "source": [
    "info = \"\"\"\n",
    "Gene coefficients estimated using Bayesian regression, with a normal prior (centered on 0) on coefficients.\n",
    "Posterior 'pvalues' are reported, calculated as 1 - largest credible interval that contains 0.\n",
    "\"\"\"\n",
    "writer = pd.ExcelWriter(\"../Data/GWAS/Relative_diff_Bayesian_ridge_regression_coefs.xlsx\")\n",
    "\n",
    "p_val_df.to_excel(writer, sheet_name=\"posterior p_vals\")\n",
    "coef_mean_df.to_excel(writer, sheet_name=\"coef means\")\n",
    "\n",
    "pd.DataFrame({\"Info\": [info]}).to_excel(writer, sheet_name=\"info\")\n",
    "writer.save()"
   ]
  },
  {
   "cell_type": "code",
   "execution_count": 14,
   "metadata": {
    "collapsed": false
   },
   "outputs": [],
   "source": [
    "writer = pd.ExcelWriter(\"../Data/GWAS/Coefficients_and_significance.xlsx\")\n",
    "\n",
    "comp_conversion = {\n",
    "    \"1,2-propanediol\": \"12PD\", \"2,3-butanediol\": \"23BD\", \"putrescine\": \"PUTR\", \"HMDA\": \"HMDA\", \"glutarate\": \"GLUT\",\n",
    "    \"adipate\": \"ADIP\", \"hexanoate\": \"HEXA\", \"octanoate\": \"OCTA\", \"coumarate\": \"COUM\", \"isobutyrate\": \"IBUA\",\n",
    "    \"butanol\": \"BUT\"\n",
    "}\n",
    "\n",
    "for comp in fits:\n",
    "    comp_df = pd.DataFrame({\"mean\": coef_mean_df[comp], \"significance\": p_val_df[comp]})\n",
    "    #comp_df[\"found\"] = comp_df.index.map(keio_genes[comp_conversion[comp]].__contains__)\n",
    "    comp_df[\"count\"] = comp_df.index.map(lambda x: len(gene_to_strains[x]))\n",
    "    comp_df[\"mutations\"] = comp_df.index.map(lambda x: \", \".join(gene_to_muts[x]))\n",
    "    comp_df = comp_df.sort_values(\"mean\", ascending=False)\n",
    "    comp_df.to_excel(writer, comp)\n",
    "\n",
    "writer.save()"
   ]
  },
  {
   "cell_type": "code",
   "execution_count": null,
   "metadata": {
    "collapsed": true
   },
   "outputs": [],
   "source": []
  }
 ],
 "metadata": {
  "anaconda-cloud": {},
  "kernelspec": {
   "display_name": "Python [tolerance]",
   "language": "python",
   "name": "Python [tolerance]"
  },
  "language_info": {
   "codemirror_mode": {
    "name": "ipython",
    "version": 3
   },
   "file_extension": ".py",
   "mimetype": "text/x-python",
   "name": "python",
   "nbconvert_exporter": "python",
   "pygments_lexer": "ipython3",
   "version": "3.5.2"
  }
 },
 "nbformat": 4,
 "nbformat_minor": 0
}

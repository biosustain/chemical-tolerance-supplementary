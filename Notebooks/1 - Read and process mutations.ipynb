{
 "cells": [
  {
   "cell_type": "markdown",
   "metadata": {},
   "source": [
    "# Processing mutations"
   ]
  },
  {
   "cell_type": "markdown",
   "metadata": {},
   "source": [
    "The variant calls from the BreSeq pipeline are parsed and analysed. All strains with _mutX_ mutations are excluded as they accumulate SNPs at a very high rate, masking interesting mutations.\n",
    "\n",
    "Mutations that are present in all strains are also excluded as they have most likely also been in the background strain, prior to the evolution experiments."
   ]
  },
  {
   "cell_type": "code",
   "execution_count": 206,
   "metadata": {
    "collapsed": true
   },
   "outputs": [],
   "source": [
    "import pandas as pd\n",
    "import json"
   ]
  },
  {
   "cell_type": "code",
   "execution_count": 207,
   "metadata": {
    "collapsed": false
   },
   "outputs": [
    {
     "name": "stdout",
     "output_type": "stream",
     "text": [
      "242 strains with a total of 5991 mutations\n"
     ]
    }
   ],
   "source": [
    "breseq_file = \"../Data/Mutation_data/Strain_mutations_v1.txt\"\n",
    "\n",
    "# Read the breseq file into a {strain: set(mutations)} dictionary.\n",
    "strains = {}\n",
    "with open(breseq_file) as infile:\n",
    "    for line in infile:\n",
    "        strain, *mutations = line.strip().split(\"\\t\")\n",
    "        strains[strain] = set(mutations)\n",
    "        \n",
    "\n",
    "print(len(strains), \"strains with a total of\", len(set.union(*strains.values())), \"mutations\")"
   ]
  },
  {
   "cell_type": "code",
   "execution_count": 208,
   "metadata": {
    "collapsed": false
   },
   "outputs": [
    {
     "name": "stdout",
     "output_type": "stream",
     "text": [
      "7 mutations are present in more than 230 strains\n",
      "The most common of the remaining mutations is present in 67\n"
     ]
    }
   ],
   "source": [
    "common_mutations = set()\n",
    "mutation_counts = pd.DataFrame(\n",
    "    {s: {m: 1 for m in muts} for s, muts in strains.items()}\n",
    ").fillna(0).sum(1).astype(\"int\").sort_values(ascending=False)\n",
    "for mut, count in mutation_counts.items():\n",
    "    if count > 230:\n",
    "        common_mutations.add(mut)\n",
    "print(len(common_mutations), \"mutations are present in more than 230 strains\")\n",
    "print(\n",
    "    \"The most common of the remaining mutations is present in\",\n",
    "    mutation_counts[~mutation_counts.index.isin(common_mutations)].max()\n",
    ")\n",
    "\n",
    "# Remove common mutations from strain genotypes\n",
    "strains = {strain: muts - common_mutations for strain, muts in strains.items()}\n",
    "\n",
    "# Exclude \"DEL-1299499-1199\" as this seemed like an erroneous call\n",
    "strains = {strain: muts - {\"DEL-1299499-1199\"} for strain, muts in strains.items()}"
   ]
  },
  {
   "cell_type": "code",
   "execution_count": 210,
   "metadata": {
    "collapsed": false
   },
   "outputs": [],
   "source": [
    "# The strain 12PD6-9 had many low-coverage regions most likely due to sequencing issues.\n",
    "# These missing-coverage calls are removed\n",
    "strains[\"12PD6-9\"] = frozenset(mut for mut in strains[\"12PD6-9\"] if not mut.startswith(\"MCDEL\"))"
   ]
  },
  {
   "cell_type": "code",
   "execution_count": 221,
   "metadata": {
    "collapsed": false
   },
   "outputs": [],
   "source": [
    "# Save file\n",
    "with open(\"../Data/Mutation_data/All_strains_to_mutations.json\", \"w\") as outfile:\n",
    "    json.dump({k: list(v) for k, v in strains.items()}, outfile)"
   ]
  },
  {
   "cell_type": "code",
   "execution_count": 211,
   "metadata": {
    "collapsed": true
   },
   "outputs": [],
   "source": [
    "# Load mapping of mutations to affected genes.\n",
    "# Mutations are mapped to any genes whose CDS contain the mutation.\n",
    "# Intergenic mutations are mapped to the closest neighbor gene which the mutation is upstream of.\n",
    "with open(\"../Data/Mutation_data/Mutations_to_gene_names.json\") as infile:\n",
    "    mutations_to_gene_names = {mut: set(genes) for mut, genes in json.load(infile).items()}"
   ]
  },
  {
   "cell_type": "code",
   "execution_count": 213,
   "metadata": {
    "collapsed": false
   },
   "outputs": [
    {
     "name": "stdout",
     "output_type": "stream",
     "text": [
      "2811 total genes are mutated\n",
      "Most commonly mutated gene is mutated in 88 strains\n"
     ]
    }
   ],
   "source": [
    "# A {strain: mutated_genes} dictionary is constructed\n",
    "\n",
    "strain_to_gene_names = {strain: set.union(*(mutations_to_gene_names[mut] for mut in muts)) for strain, muts in strains.items()}\n",
    "\n",
    "# Count how many strains have mutations in each gene\n",
    "gene_counts = pd.DataFrame({s: {m: 1 for m in muts} for s, muts in strain_to_gene_names.items()}).fillna(0).sum(1).astype(\"int\").sort_values(ascending=False)\n",
    "\n",
    "# Find genes that are mutated in (almost) all strains, meaning it was most likely mutated in the background strain\n",
    "common_gene_mutations = set(gene_counts[gene_counts > 240].index)\n",
    "\n",
    "\n",
    "# Remove genes that are mutated in all strains\n",
    "strain_to_gene_names = {strain: genes - common_gene_mutations for strain, genes in strain_to_gene_names.items()}\n",
    "print(len(set.union(*strain_to_gene_names.values())), \"total genes are mutated\")\n",
    "print(\"Most commonly mutated gene is mutated in\", gene_counts[~gene_counts.index.isin(common_gene_mutations)].max(), \"strains\")\n",
    "\n",
    "with open(\"../Data/Mutation_data/All_strains_to_gene_names.json\", \"w\") as outfile:\n",
    "    json.dump({strain: list(genes) for strain, genes in strain_to_gene_names.items()}, outfile)"
   ]
  },
  {
   "cell_type": "code",
   "execution_count": 218,
   "metadata": {
    "collapsed": false
   },
   "outputs": [
    {
     "name": "stdout",
     "output_type": "stream",
     "text": [
      "190 strains are not hypermutators.\n"
     ]
    }
   ],
   "source": [
    "# Find strains that have mutations in mutX genes\n",
    "hypermutators = []\n",
    "for strain, gens in strain_to_gene_names.items():\n",
    "    for gen in gens:\n",
    "        if gen.startswith(\"mut\"):\n",
    "            #print(strain, gen)\n",
    "            hypermutators.append(strain)\n",
    "hypermutators = set(hypermutators)\n",
    "non_hyper_mutators = set(strains) - hypermutators\n",
    "print(len(non_hyper_mutators), \"strains are not hypermutators.\")"
   ]
  },
  {
   "cell_type": "code",
   "execution_count": 219,
   "metadata": {
    "collapsed": false
   },
   "outputs": [],
   "source": [
    "# Save data\n",
    "with open(\"../Data/Mutation_data/Strain_to_genes.json\", \"w\") as outfile:\n",
    "    json.dump({strain: list(strain_to_gene_names[strain]) for strain in non_hyper_mutators}, outfile)"
   ]
  },
  {
   "cell_type": "code",
   "execution_count": null,
   "metadata": {
    "collapsed": true
   },
   "outputs": [],
   "source": []
  },
  {
   "cell_type": "code",
   "execution_count": null,
   "metadata": {
    "collapsed": true
   },
   "outputs": [],
   "source": [
    "# This should be moved to the mutation histogram plot notebook\n",
    "\n",
    "def overlaps(start1, end1, start2, end2):\n",
    "    \"\"\"Function to check whether two mutations overlap\"\"\"\n",
    "    if start1 <= end2 and start2 <= end1:\n",
    "        return True\n",
    "    else:\n",
    "        return False\n",
    "    \n",
    "# Remove any MCDEL calls that overlap with a DEL call\n",
    "mcdels_to_remove = {}  # Remove duplicate MCDEL / DEL calls\n",
    "for strain, muts in strains.items():\n",
    "    dels = { # mut: (start, end) #\n",
    "        mut: (int(mut.split(\"-\")[1]), int(mut.split(\"-\")[1])+int(mut.split(\"-\")[2]))\n",
    "        for mut in muts if mut.startswith(\"DEL\")\n",
    "    }\n",
    "    mcdels = {\n",
    "        mut: (int(mut.split(\"-\")[1]), int(mut.split(\"-\")[2]))\n",
    "        for mut in muts if mut.startswith(\"MCDEL\")\n",
    "    }\n",
    "    remove_list = []\n",
    "    for mcdel, (start1, end1) in mcdels.items():\n",
    "        for del_id, (start2, end2) in dels.items():\n",
    "            if overlaps(start1, end1, start2, end2):\n",
    "                remove_list.append(mcdel)\n",
    "                break\n",
    "    mcdels_to_remove[strain] = set(remove_list)\n",
    "\n",
    "strains = {strain: muts - mcdels_to_remove[strain] for strain, muts in strains.items()}\n",
    "print(\"Removing\", len(set.union(*mcdels_to_remove.values())), \"MCDEL mutations\")\n",
    "print(len(set.union(*strains.values())), \"unique mutations\")"
   ]
  }
 ],
 "metadata": {
  "anaconda-cloud": {},
  "kernelspec": {
   "display_name": "Python [tolerance]",
   "language": "python",
   "name": "Python [tolerance]"
  },
  "language_info": {
   "codemirror_mode": {
    "name": "ipython",
    "version": 3
   },
   "file_extension": ".py",
   "mimetype": "text/x-python",
   "name": "python",
   "nbconvert_exporter": "python",
   "pygments_lexer": "ipython3",
   "version": "3.5.2"
  }
 },
 "nbformat": 4,
 "nbformat_minor": 0
}

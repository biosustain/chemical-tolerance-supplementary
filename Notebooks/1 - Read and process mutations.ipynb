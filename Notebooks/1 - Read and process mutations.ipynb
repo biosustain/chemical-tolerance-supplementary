{
 "cells": [
  {
   "cell_type": "markdown",
   "metadata": {},
   "source": [
    "# Processing mutations"
   ]
  },
  {
   "cell_type": "markdown",
   "metadata": {},
   "source": [
    "The variant calls from the BreSeq pipeline are parsed and analysed. All strains with _mutX_ mutations are excluded as they accumulate SNPs at a very high rate, masking interesting mutations.\n",
    "\n",
    "Mutations that are present in all strains are also excluded as they have most likely also been in the background strain, prior to the evolution experiments."
   ]
  },
  {
   "cell_type": "code",
   "execution_count": 729,
   "metadata": {
    "collapsed": true
   },
   "outputs": [],
   "source": [
    "import pandas as pd\n",
    "import json\n",
    "import copy"
   ]
  },
  {
   "cell_type": "code",
   "execution_count": 471,
   "metadata": {
    "collapsed": false
   },
   "outputs": [],
   "source": [
    "compounds = [\"HMDA\", \"putrescine\", \"1,2-propanediol\", \"2,3-butanediol\", \"glutarate\", \"adipate\", \"hexanoate\", \"octanoate\", \"coumarate\", \"isobutyrate\", \"butanol\"]\n",
    "\n",
    "mapping = pd.read_csv(\"../Data/Mutation_data/Variant_calls/mapping.csv\", header=None)\n",
    "compound_mapping = {\n",
    "    1: \"butanol\",\n",
    "    2: \"glutarate\",\n",
    "    3: \"coumarate\",\n",
    "    5: \"HMDA\",\n",
    "    6: \"putrescine\",\n",
    "    7: \"adipate\",\n",
    "    8: \"isobutyrate\",\n",
    "    9: \"hexanoate\",\n",
    "    10: \"2,3-butanediol\",\n",
    "    11: \"1,2-propanediol\",\n",
    "    12: \"octanoate\"\n",
    "}\n",
    "rev_compound_mapping = {v: k for k, v in compound_mapping.items()}\n",
    "\n",
    "code_to_compound = {\n",
    "    \"BUT\": \"butanol\",\n",
    "    \"GLUT\": \"glutarate\",\n",
    "    \"COUM\": \"coumarate\",\n",
    "    \"HMDA\": \"HMDA\",\n",
    "    \"PUTR\": \"putrescine\",\n",
    "    \"ADIP\": \"adipate\",\n",
    "    \"IBUA\": \"isobutyrate\",\n",
    "    \"HEXA\": \"hexanoate\",\n",
    "    \"23BD\": \"2,3-butanediol\",\n",
    "    \"12PD\": \"1,2-propanediol\",\n",
    "    \"OCTA\": \"octanoate\"\n",
    "}\n",
    "comp_to_code = {v: k for k, v in code_to_compound.items()}"
   ]
  },
  {
   "cell_type": "code",
   "execution_count": 621,
   "metadata": {
    "collapsed": false
   },
   "outputs": [],
   "source": [
    "def generate_mut_id(row):\n",
    "    \"\"\"\n",
    "    Generate a mutation id from the information from BreSeq.\n",
    "    \"\"\"\n",
    "    typ = row[\"Mutation Type\"]\n",
    "    pos = str(int(row[\"Position\"].replace(\",\", \"\")))\n",
    "    if typ == \"SNP\":\n",
    "        last = row[\"Sequence Change\"][-1]\n",
    "    elif typ == \"DEL\":\n",
    "        if \"(\" in row[\"Sequence Change\"]:\n",
    "            last = str(len(row[\"Sequence Change\"].split(\")\")[0][1:]))\n",
    "        else:\n",
    "            last = str(int(row[\"Sequence Change\"][1:-3].replace(\",\", \"\")))\n",
    "    elif typ == \"INS\":\n",
    "        if \"(\" in row[\"Sequence Change\"]:\n",
    "            last = row[\"Sequence Change\"].split(\")\")[0][1:]\n",
    "        else:\n",
    "            last = row[\"Sequence Change\"][1:]\n",
    "    elif typ == \"MOB\":\n",
    "        fields = row[\"Sequence Change\"].split(\"\\xa0\")\n",
    "        last = fields[0] + \"-\" + fields[2][1:]\n",
    "    else:\n",
    "        last = \"\"\n",
    "    return \"-\".join((typ, pos, last))\n",
    "\n",
    "def strain_code_to_name(strain_code, compound):\n",
    "    \"\"\"\n",
    "    Convert the strain code from the breseq results to the real strain names using the mapping file.\n",
    "    \"\"\"\n",
    "    compound_num = rev_compound_mapping[compound]\n",
    "    fields = strain_code.split(\" \")[-4:]\n",
    "    fields = [f[1:] for f in fields]\n",
    "    code = (int(fields[0]), int(fields[2]), int(fields[3]))\n",
    "    strain = mapping[mapping[0] == compound_num].groupby((1, 2, 3)).first().loc[code][4]\n",
    "    return strain\n",
    "    "
   ]
  },
  {
   "cell_type": "code",
   "execution_count": 719,
   "metadata": {
    "collapsed": false
   },
   "outputs": [],
   "source": [
    "excluded_mutations = {\n",
    "    'DEL-1299499-1199', # Randomly called across populations\n",
    "}\n",
    "\n",
    "def convert_to_int(string):\n",
    "    if string[0] == \"‑\": # Weird non-standard minus sign\n",
    "        string = \"-\" + string[1:] # Replace with normal minus sign\n",
    "    return int(string)\n",
    "\n",
    "def pick_gene(rel_coords):\n",
    "    \"\"\"Given relative coordinates of an intergenic mutation, pick the gene that is closest downstream\"\"\"\n",
    "    if min(rel_coords) > 0:\n",
    "        return None\n",
    "    elif max(rel_coords) <= 0:\n",
    "        if rel_coords[0] > rel_coords[1]:\n",
    "            return 0\n",
    "        else:\n",
    "            return 0\n",
    "    elif rel_coords[0] <= 0:\n",
    "        return 0\n",
    "    elif rel_coords[1] <= 0:\n",
    "        return 1\n",
    "    else:\n",
    "        raise RuntimeError(\"What else is there?\")\n",
    "\n",
    "strain_to_muts = {}\n",
    "mut_to_genes = {}\n",
    "for comp in compounds:\n",
    "    df = pd.read_csv(\"../Data/Mutation_data/Variant_calls/%s.csv\" % comp)\n",
    "    df[\"mut_id\"] = df.apply(generate_mut_id, 1)\n",
    "    \n",
    "    for idx, row in df.iterrows():\n",
    "        genes = row[\"Gene\"]\n",
    "        if \"genes\" in genes:\n",
    "            genes = genes.split(\"genes\")[-1] # Fix inconsistent format for large deletions\n",
    "        genes = genes.split(\", \")\n",
    "        genes = [gene.strip(\"[] >\") for gene in genes]\n",
    "        change = row[\"Protein change\"]\n",
    "        if isinstance(change, str) and change.startswith(\"intergenic\"):\n",
    "            nums = change.split(\"(\")[1][:-1].split(\"/\")\n",
    "            nums = convert_to_int(nums[0]), convert_to_int(nums[1])\n",
    "            nearest = pick_gene(nums)\n",
    "            if nearest is None:\n",
    "                genes = []\n",
    "            else:\n",
    "                genes = [genes[nearest]]\n",
    "                \n",
    "        mut_id = row[\"mut_id\"]\n",
    "        mut_to_genes[mut_id] = genes\n",
    "        \n",
    "    for strain_code in df.columns[10:]:\n",
    "        if strain_code == \"mut_id\":\n",
    "            continue\n",
    "        strain = strain_code_to_name(strain_code, comp)\n",
    "        if strain.endswith(\"-rerun\"):\n",
    "            strain = strain[:-6]\n",
    "\n",
    "        muts = list(df[df[strain_code] == 1][\"mut_id\"])\n",
    "        strain_to_muts[strain] = set(muts) - excluded_mutations"
   ]
  },
  {
   "cell_type": "code",
   "execution_count": 757,
   "metadata": {
    "collapsed": false
   },
   "outputs": [
    {
     "name": "stdout",
     "output_type": "stream",
     "text": [
      "There are 224 strains with a total of 3733 mutations.\n"
     ]
    }
   ],
   "source": [
    "print(\n",
    "    \"There are\",\n",
    "    len(strain_to_muts),\n",
    "    \"strains with a total of\",\n",
    "    len(set.union(*strain_to_muts.values())), \"mutations.\"\n",
    ")"
   ]
  },
  {
   "cell_type": "code",
   "execution_count": 740,
   "metadata": {
    "collapsed": false
   },
   "outputs": [],
   "source": [
    "strain_to_genes = {}\n",
    "\n",
    "# Add genes that are specifically mutated (mutation only has 1 gene target)\n",
    "for strain, muts in strain_to_muts.items():\n",
    "    for mut in muts:\n",
    "        if len(mut_to_genes[mut]) == 1:\n",
    "            strain_to_genes.setdefault(strain, []).append(mut_to_genes[mut][0])\n",
    "            \n",
    "strain_to_genes = {k: set(v) for k, v in strain_to_genes.items()}\n",
    "\n",
    "certain_mutations = {\n",
    "    comp: set.union(*(v for k, v in strain_to_genes.items() if k.startswith(comp))) for comp in code_to_compound\n",
    "}\n",
    "strain_to_all_genes = copy.deepcopy(strain_to_genes)\n",
    "\n",
    "# For mutations that affect multiple genes: only add genes that are already mutated in strains from that compound\n",
    "# (or mutator genes)\n",
    "for comp in code_to_compound:\n",
    "    for strain in (s for s in strain_to_muts if s.startswith(comp)):\n",
    "        for mut in strain_to_muts[strain]:\n",
    "            if mut.startswith(\"DUP\"):\n",
    "                continue\n",
    "            if len(mut_to_genes[mut]) > 1:\n",
    "                for gene in mut_to_genes[mut]:\n",
    "                    strain_to_all_genes[strain].add(gene)\n",
    "                    if gene in certain_mutations[comp] or gene.startswith(\"mut\"):\n",
    "                        strain_to_genes[strain].add(gene)"
   ]
  },
  {
   "cell_type": "code",
   "execution_count": 758,
   "metadata": {
    "collapsed": false
   },
   "outputs": [
    {
     "name": "stdout",
     "output_type": "stream",
     "text": [
      "A total of 2028 genes are mutated.\n"
     ]
    }
   ],
   "source": [
    "print(\n",
    "    \"A total of\",\n",
    "    len(set.union(*strain_to_all_genes.values())),\n",
    "    \"genes are mutated.\"\n",
    ")"
   ]
  },
  {
   "cell_type": "code",
   "execution_count": 759,
   "metadata": {
    "collapsed": true
   },
   "outputs": [],
   "source": [
    "# Hypermutators are strains with mutations in a mutX gene\n",
    "hypermutators = [s for s, genes in strain_to_genes.items() if \"mut\" in set(g[:3] for g in genes)]\n",
    "non_hypermutators = set(strain_to_genes) - set(hypermutators)"
   ]
  },
  {
   "cell_type": "code",
   "execution_count": 764,
   "metadata": {
    "collapsed": false
   },
   "outputs": [
    {
     "name": "stdout",
     "output_type": "stream",
     "text": [
      "There are 192 non-mutator strains with a total of 911 mutations affecting 366 genes.\n"
     ]
    }
   ],
   "source": [
    "print(\n",
    "    \"There are\",\n",
    "    len(non_hypermutators),\n",
    "    \"non-mutator strains with a total of\",\n",
    "    len(set.union(*[v for k, v in strain_to_muts.items() if k in non_hypermutators])),\n",
    "    \"mutations affecting\",\n",
    "    len(set.union(*[v for k, v in strain_to_all_genes.items() if k in non_hypermutators])),\n",
    "    \"genes.\"\n",
    ")"
   ]
  },
  {
   "cell_type": "code",
   "execution_count": 749,
   "metadata": {
    "collapsed": false
   },
   "outputs": [],
   "source": [
    "with open(\"../Data/Mutation_data/Strain_to_genes.json\", \"w\") as outfile:\n",
    "    json.dump({k: list(v) for k, v in strain_to_genes.items() if k in non_hypermutators}, outfile)\n",
    "    \n",
    "with open(\"../Data/Mutation_data/Strain_to_all_genes.json\", \"w\") as outfile:\n",
    "    json.dump({k: list(v) for k, v in strain_to_all_genes.items() if k in non_hypermutators}, outfile)\n",
    "    \n",
    "with open(\"../Data/Mutation_data/All_strains_to_gene_names.json\", \"w\") as outfile:\n",
    "    json.dump({k: list(v) for k, v in strain_to_genes.items()}, outfile)\n",
    "    \n",
    "with open(\"../Data/Mutation_data/All_strains_to_mutations.json\", \"w\") as outfile:\n",
    "    json.dump({k: list(v) for k, v in strain_to_muts.items()}, outfile)\n",
    "    \n",
    "with open(\"../Data/Mutation_data/All_mutated_genes.txt\", \"w\") as outfile:\n",
    "    mutated_genes = set.union(*[strain_to_genes[s] for s in non_hypermutators])\n",
    "    outfile.write(\"\\n\".join(mutated_genes))"
   ]
  },
  {
   "cell_type": "code",
   "execution_count": 753,
   "metadata": {
    "collapsed": false
   },
   "outputs": [
    {
     "name": "stdout",
     "output_type": "stream",
     "text": [
      "Number of mutations in each of the strains classified as a hypermutator:\n",
      "12PD1-10 \t134\n",
      "12PD1-2 \t146\n",
      "12PD1-4 \t112\n",
      "12PD2-8 \t157\n",
      "12PD2-9 \t158\n",
      "12PD3-10 \t147\n",
      "12PD3-7 \t134\n",
      "12PD3-8 \t179\n",
      "12PD4-8 \t93\n",
      "12PD4-9 \t94\n",
      "12PD5-1 \t131\n",
      "12PD5-3 \t131\n",
      "12PD7-5 \t109\n",
      "12PD7-6 \t193\n",
      "12PD8-10 \t154\n",
      "12PD8-6 \t151\n",
      "12PD8-7 \t136\n",
      "23BD3-3 \t280\n",
      "23BD3-4 \t241\n",
      "23BD3-9 \t263\n",
      "ADIP5-2 \t215\n",
      "ADIP5-6 \t181\n",
      "HMDA4-2 \t45\n",
      "HMDA4-6 \t47\n",
      "HMDA4-9 \t44\n",
      "HMDA6-3 \t85\n",
      "HMDA6-7 \t87\n",
      "IBUA3-2 \t42\n",
      "OCTA6-5 \t106\n",
      "OCTA6-6 \t107\n",
      "OCTA6-7 \t109\n"
     ]
    }
   ],
   "source": [
    "print(\"Number of mutations in each of the strains classified as a hypermutator:\")\n",
    "for s in sorted(hypermutators):\n",
    "    print(s, len(strain_to_genes[s]), sep=\" \\t\")"
   ]
  },
  {
   "cell_type": "code",
   "execution_count": null,
   "metadata": {
    "collapsed": true
   },
   "outputs": [],
   "source": []
  }
 ],
 "metadata": {
  "anaconda-cloud": {},
  "kernelspec": {
   "display_name": "Python [tolerance]",
   "language": "python",
   "name": "Python [tolerance]"
  },
  "language_info": {
   "codemirror_mode": {
    "name": "ipython",
    "version": 3
   },
   "file_extension": ".py",
   "mimetype": "text/x-python",
   "name": "python",
   "nbconvert_exporter": "python",
   "pygments_lexer": "ipython3",
   "version": "3.5.2"
  }
 },
 "nbformat": 4,
 "nbformat_minor": 0
}

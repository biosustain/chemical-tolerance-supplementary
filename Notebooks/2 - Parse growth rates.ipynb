{
 "cells": [
  {
   "cell_type": "markdown",
   "metadata": {},
   "source": [
    "# Parse growth rates"
   ]
  },
  {
   "cell_type": "markdown",
   "metadata": {},
   "source": [
    "This notebook reads the output from croissance and extracts the relevant growth rates and associates them with the right strains using the plate layouts."
   ]
  },
  {
   "cell_type": "code",
   "execution_count": 1,
   "metadata": {
    "collapsed": false
   },
   "outputs": [],
   "source": [
    "from croissance_parsing import parse_plate_data # Local module in this directory\n",
    "import pandas as pd\n",
    "import xlrd\n",
    "import json\n",
    "import re\n",
    "import numpy as np\n",
    "import os"
   ]
  },
  {
   "cell_type": "code",
   "execution_count": 2,
   "metadata": {
    "collapsed": true
   },
   "outputs": [],
   "source": [
    "cols = [\"1\", \"2\", \"3\", \"4\", \"5\", \"6\", \"7\", \"8\", \"9\", \"10\", \"11\", \"12\"]\n",
    "rows = [\"A\", \"B\", \"C\", \"D\", \"E\", \"F\", \"G\", \"H\"]\n",
    "wells_96 = [str(row)+col for row in rows for col in cols]"
   ]
  },
  {
   "cell_type": "markdown",
   "metadata": {},
   "source": [
    "## Initial screens (Biolector)"
   ]
  },
  {
   "cell_type": "code",
   "execution_count": 3,
   "metadata": {
    "collapsed": true
   },
   "outputs": [],
   "source": [
    "data_dir = \"../Data/Growth_data/initial_tolerance_tests/\"\n",
    "screen_exps = {\n",
    "    'butanol': 'tolerance_012714_butanol_coumarate.xlsx',\n",
    "    'glutarate': 'tolerance_021014_coumarate_glutarate.xlsx',\n",
    "    'coumarate': 'tolerance_021014_coumarate_glutarate.xlsx',\n",
    "    'putrescine': 'tolerance_021114_adipic-acid_putrescine.xlsx',\n",
    "    'HMDA': 'tolerance_012814_HDMA_6-aminohexanoic.xlsx',\n",
    "    'adipate': 'tolerance_031914_adipate_propionate.xlsx',\n",
    "    'isobutyrate': 'tolerance_040214_2,5-furandicarboxylate_isobutyrate.xlsx',\n",
    "    'hexanoate': 'tolerance_021214_2,3-butanediol_hexanoic-acid.xlsx',\n",
    "    '2,3-butanediol': 'tolerance_021214_2,3-butanediol_hexanoic-acid.xlsx',\n",
    "    '1,2-propanediol': 'tolerance_032914_1,2-pentanediol_1,2-propanediol.xlsx',\n",
    "    'octanoate': 'tolerance_081914_octanoate_caffeate.xlsx',\n",
    "}"
   ]
  },
  {
   "cell_type": "code",
   "execution_count": 4,
   "metadata": {
    "collapsed": false
   },
   "outputs": [],
   "source": [
    "def parse_content(string):\n",
    "    \"\"\"Parse the media content of a well in the excel layout file\"\"\"\n",
    "    string = string.replace(\"%\", \" %\")\n",
    "    try:\n",
    "        conc, unit, comp, *junk = string.split()\n",
    "    except ValueError:\n",
    "        raise ValueError(string)\n",
    "    assert unit.lower() in (\"g/l\", \"v/v\", \"%\"), unit\n",
    "    conc = float(conc)\n",
    "    return conc, unit, comp\n",
    "\n",
    "# Read the excel files\n",
    "layouts = {}\n",
    "for comp, filename in screen_exps.items():\n",
    "    layouts[comp] = {}\n",
    "    workbook = xlrd.open_workbook(data_dir+\"raw Biolector data/\"+filename)\n",
    "    sheet = workbook.sheet_by_name(\"subtracted\")\n",
    "    for well, content in zip(sheet.col_slice(0), sheet.col_slice(2)):\n",
    "        well, content = well.value, content.value\n",
    "        if well == \"\":\n",
    "            continue\n",
    "        # Skip any cells containing \"pentane\" to not confuse 12-propanediol with 12-pentanediol\n",
    "        if comp[:4] in content and \"pentane\" not in content: \n",
    "            layouts[comp][well] = parse_content(content)"
   ]
  },
  {
   "cell_type": "code",
   "execution_count": 5,
   "metadata": {
    "collapsed": false
   },
   "outputs": [
    {
     "data": {
      "text/plain": [
       "'10.0 g/L glutarate'"
      ]
     },
     "execution_count": 5,
     "metadata": {},
     "output_type": "execute_result"
    }
   ],
   "source": [
    "\" \".join(map(str, layouts[\"glutarate\"][\"D02\"]))"
   ]
  },
  {
   "cell_type": "code",
   "execution_count": 6,
   "metadata": {
    "collapsed": false
   },
   "outputs": [],
   "source": [
    "# Compile growth curves\n",
    "for comp, exp in screen_exps.items():\n",
    "    exp = exp.split(\".\")[0]\n",
    "    growth_data = pd.read_csv(data_dir + \"output/\" + exp + \".OD.v2.tsv\", sep=\"\\t\", index_col=0)\n",
    "    for well in list(growth_data):\n",
    "        ser = growth_data[well]\n",
    "        if well in layouts[comp]:\n",
    "            strain = \" \".join(map(str, layouts[comp][well]))\n",
    "            growth_data[strain] = ser\n",
    "        del growth_data[well]\n",
    "    growth_data.to_csv(data_dir + \"/curves/\" + exp + \".tsv\", sep=\"\\t\")"
   ]
  },
  {
   "cell_type": "code",
   "execution_count": 7,
   "metadata": {
    "collapsed": false
   },
   "outputs": [],
   "source": [
    "# Parse the growth phases from the croissance output\n",
    "growth_rates = {}\n",
    "for comp, name in screen_exps.items():\n",
    "    growth_rates[comp] = {}\n",
    "    name = name.split(\".\")[0] + \".OD.v2.output.json\"\n",
    "    with open(data_dir + \"output/\" + name) as infile:\n",
    "        json_data = json.load(infile)\n",
    "        curves = json_data[\"curves\"]\n",
    "    data = parse_plate_data(\n",
    "        curves,\n",
    "        phase_length_cutoff=3,\n",
    "        max_abs_baseline=4,\n",
    "        max_baseline_dev=4,\n",
    "        time_cutoff=20,\n",
    "        verbose=False\n",
    "    )\n",
    "    for well in layouts[comp]:\n",
    "        growth_rates[comp][well] = data[well]['slope']"
   ]
  },
  {
   "cell_type": "code",
   "execution_count": 8,
   "metadata": {
    "collapsed": true
   },
   "outputs": [],
   "source": [
    "data = []\n",
    "for comp in layouts:\n",
    "    for well, (conc, unit, med) in layouts[comp].items():\n",
    "        data.append(\n",
    "            {\"compound\": comp, \"conc\": conc,\n",
    "             \"growth_rate\": growth_rates[comp][well],\n",
    "             \"medium\": med, \"unit\": unit, \"well\": well}\n",
    "        )\n",
    "df = pd.DataFrame(data)\n",
    "df.to_csv(\"../Data/Growth_data/initial_tolerance_tests/Initial_tolerance_data_frame.tsv\", sep=\"\\t\", index=None)"
   ]
  },
  {
   "cell_type": "markdown",
   "metadata": {},
   "source": [
    "## Evolved isolate screening (Biolector)"
   ]
  },
  {
   "cell_type": "code",
   "execution_count": 9,
   "metadata": {
    "collapsed": true
   },
   "outputs": [],
   "source": [
    "data_dir = \"../Data/Growth_data/evolved-isolate-growth-data/\"\n",
    "exp_list = {\n",
    "    'ALE_1,2-propanediol_duplicates_121514': \"1,2-propanediol\",\n",
    "    'ALE_2,3-butanediol_duplicates_122414': \"2,3-butanediol\",\n",
    "    'ALE_adipate_duplicates_091014': \"adipate\",\n",
    "    'ALE_butanol_duplicates_060514': \"butanol\",\n",
    "    'ALE_coumarate_duplicates_061914': \"coumarate\",\n",
    "    'ALE_glutarate_duplicates_060214': \"glutarate\",\n",
    "    'ALE_HDMA_duplicates_080114': \"HMDA\",\n",
    "    'ALE_hexanoate_duplicates_101314': \"hexanoate\",\n",
    "    'ALE_isobutyrate_duplicates_091114': \"isobutyrate\",\n",
    "    'ALE_octanoate_duplicates_122214': \"octanoate\",\n",
    "    'ALE_putrescine_duplicates_073014': \"putrescine\",\n",
    "}"
   ]
  },
  {
   "cell_type": "code",
   "execution_count": 10,
   "metadata": {
    "collapsed": false
   },
   "outputs": [],
   "source": [
    "layouts = {}\n",
    "for exp, comp in exp_list.items():\n",
    "    date = exp.split(\"_\")[-1]\n",
    "    excel_name = exp + \".xlsx\"\n",
    "    layouts[exp] = {}\n",
    "    workbook = xlrd.open_workbook(data_dir + \"raw Biolector data/\" + excel_name)\n",
    "    sheet = workbook.sheet_by_name(\"subtracted\")\n",
    "    for well, strain in zip(sheet.col_slice(0), sheet.col_slice(2)):\n",
    "        well, strain = well.value, strain.value\n",
    "        if well == \"\":\n",
    "            continue\n",
    "        layouts[exp][well] = strain"
   ]
  },
  {
   "cell_type": "code",
   "execution_count": 11,
   "metadata": {
    "collapsed": false
   },
   "outputs": [],
   "source": [
    "# Compile growth curves\n",
    "for exp in exp_list:\n",
    "    growth_data = pd.read_csv(data_dir + \"/output/\" + exp + \".v2.tsv\", sep=\"\\t\", index_col=0)\n",
    "    for well in list(growth_data):\n",
    "        ser = growth_data[well]\n",
    "        if well in layouts[exp]:\n",
    "            strain = layouts[exp][well]\n",
    "            growth_data[strain] = ser\n",
    "        del growth_data[well]\n",
    "    growth_data.to_csv(data_dir + \"/curves/\" + exp + \".tsv\", sep=\"\\t\")"
   ]
  },
  {
   "cell_type": "code",
   "execution_count": 12,
   "metadata": {
    "collapsed": false
   },
   "outputs": [],
   "source": [
    "# Parse growth rates\n",
    "growth_rates = {}\n",
    "for exp in exp_list:\n",
    "    growth_rates[exp] = {}\n",
    "    with open(data_dir + \"output/\" + exp + \".v2.output.json\") as f:\n",
    "        json_data = json.load(f)\n",
    "    curves = json_data[\"curves\"]\n",
    "    data = parse_plate_data(\n",
    "        curves,\n",
    "        phase_length_cutoff=3,\n",
    "        max_abs_baseline=3,\n",
    "        max_baseline_dev=3,\n",
    "        verbose=False\n",
    "    )\n",
    "    for well in layouts[exp]:\n",
    "        growth_rates[exp][well] = data[well][\"slope\"]"
   ]
  },
  {
   "cell_type": "code",
   "execution_count": 13,
   "metadata": {
    "collapsed": true
   },
   "outputs": [],
   "source": [
    "def parse_strain(strain):\n",
    "    if strain.startswith(\"MG1655\"):\n",
    "        strain = strain.replace(\"-\", \"_\")\n",
    "    strain, repl = strain.split(\"_\", 1)\n",
    "    repl = int(repl)\n",
    "    return strain, repl\n",
    "\n",
    "data = []\n",
    "for exp, comp in exp_list.items():\n",
    "    for well, strain in layouts[exp].items():\n",
    "        strain, repl = parse_strain(strain)\n",
    "        if \"HDMA\" in strain:\n",
    "            strain = strain.replace(\"HDMA\", \"HMDA\")\n",
    "        gr = growth_rates[exp][well]\n",
    "        data.append(\n",
    "            {\"compound\": comp, \"strain\": strain, \"growth_rate\": gr,\n",
    "             \"experiment\": exp, \"well\": well, \"repl\": repl}\n",
    "        )\n",
    "df = pd.DataFrame(data)\n",
    "df.to_csv(\"../Data/Growth_data/evolved-isolate-growth-data/Evolved_isolates_data_frame.tsv\", sep=\"\\t\", index=None)"
   ]
  },
  {
   "cell_type": "markdown",
   "metadata": {},
   "source": [
    "## Cross tolerance screening (Growth profiler)"
   ]
  },
  {
   "cell_type": "code",
   "execution_count": 40,
   "metadata": {
    "collapsed": true
   },
   "outputs": [],
   "source": [
    "data_dir = \"../Data/Growth_data/Cross_tolerance/\"\n",
    "tray_2_substrate = {1: \"butanol\",\n",
    "    2: \"glutarate\",\n",
    "    3: \"coumarate\",\n",
    "    4: \"2,3-butanediol\",\n",
    "    5: \"putrescine\",\n",
    "    6: \"HMDA\",\n",
    "    7: \"adipate\",\n",
    "    8: \"isobutyrate\",\n",
    "    9: \"hexanoate\",\n",
    "    10: \"octanoate\",\n",
    "    11: \"1,2-propanediol\",\n",
    "    12: \"NaCl\"\n",
    "}"
   ]
  },
  {
   "cell_type": "code",
   "execution_count": 41,
   "metadata": {
    "collapsed": false
   },
   "outputs": [],
   "source": [
    "layout_filename = \"../Data/Growth_data/Cross_tolerance/plate_layout.txt\"\n",
    "strain_layout = {}\n",
    "with open(layout_filename) as infile:\n",
    "    for line in infile:\n",
    "        date_exp, well, strain = line.strip(\"\\n\").split(\"\\t\")\n",
    "        date_exp = \"\".join(date_exp.split(\",\")) # remove , from e.g. 1,2-propanediol\n",
    "        date_exp = \"\".join(date_exp.split(\"-\")) # remove - from e.g. 1,2-propanediol\n",
    "        date = \"_\".join(date_exp.split(\"_\")[::-1])\n",
    "        if \"hexanoate_041715\" in date:\n",
    "            date = date.replace(\"hexanoate_041715\", \"hexanoate_plate1_041715\") # Use consistent naming\n",
    "        if \"oddsnends\" in date:\n",
    "            date = date.replace(\"oddsnends\", \"odds-n-ends\") # Use consistent naming\n",
    "        strain = re.sub(r\"HDMA\", \"HMDA\", strain) # Fix a typo\n",
    "        strain_layout.setdefault(date, {})[well] = strain"
   ]
  },
  {
   "cell_type": "code",
   "execution_count": 42,
   "metadata": {
    "collapsed": true
   },
   "outputs": [],
   "source": [
    "exp_list = list(strain_layout.keys())\n",
    "exp_list.remove(\"hexanoate_022815\")\n",
    "\n",
    "tray_numbers = list(range(1,13))"
   ]
  },
  {
   "cell_type": "code",
   "execution_count": 43,
   "metadata": {
    "collapsed": true
   },
   "outputs": [],
   "source": [
    "strain_2_compound = {\n",
    "    \"HDMA\": \"HMDA\",\n",
    "    \"HMDA\": \"HMDA\",\n",
    "    \"ADIP\": \"adipate\",\n",
    "    \"HEXA\": \"hexanoate\",\n",
    "    \"IBUA\": \"isobutyrate\",\n",
    "    \"OCTA\": \"octanoate\",\n",
    "    \"23BD\": \"2,3-butanediol\",\n",
    "    \"12PD\": \"1,2-propanediol\",\n",
    "    \"COUM\": \"coumarate\",\n",
    "    \"PUTR\": \"putrescine\",\n",
    "    \"BUT\": \"butanol\",\n",
    "    \"GLUT\": \"glutarate\"\n",
    "}\n",
    "\n",
    "def parse_strain(strain_string):\n",
    "    strain, *repl = strain_string.split(\"_\")\n",
    "    if len(repl) == 1:\n",
    "        repl = repl[0]\n",
    "    elif len(repl) == 0:\n",
    "        repl = 0\n",
    "    else:\n",
    "        raise ValueError(\"_\".join([strain]+repl))\n",
    "    for key, compound in strain_2_compound.items():\n",
    "        if strain.startswith(key):\n",
    "            evolved_substrate = compound\n",
    "            break\n",
    "    else:\n",
    "        evolved_substrate = \"NA\"\n",
    "        if strain.startswith(\"MG1655\"):\n",
    "            strain = \"MG1655\"\n",
    "    return strain, repl, evolved_substrate"
   ]
  },
  {
   "cell_type": "code",
   "execution_count": 44,
   "metadata": {
    "collapsed": false
   },
   "outputs": [],
   "source": [
    "# Parse layouts for plates that had another layout than the rest\n",
    "def read_plate_layout(sheet):\n",
    "    layout = {}\n",
    "    for i, row in enumerate((\"A\", \"B\", \"C\", \"D\", \"E\", \"F\", \"G\", \"H\")):\n",
    "        for j in range(1, 13):\n",
    "            well = row+str(j)\n",
    "            cell = sheet.cell_value(i+1, j)\n",
    "            if cell:\n",
    "                layout[well] = cell\n",
    "    return layout\n",
    "\n",
    "odds_tray2_layout = read_plate_layout(xlrd.open_workbook(\"../Data/Growth_data/Cross_tolerance/odds_glutarate_non_standard.xlsx\").sheet_by_index(0))\n",
    "odds_tray2_media = {well: \"butanol\" for well in odds_tray2_layout if well[1:] in (\"8\", \"9\")}\n",
    "\n",
    "odds_tray12_layout = read_plate_layout(xlrd.open_workbook(\"../Data/Growth_data/Cross_tolerance/odds_layout_nacl_non_standard.xlsx\").sheet_by_index(0))\n",
    "odds_tray12_media = {well: \"NaCl\" for well in odds_tray12_layout if int(well[1:]) <= 7}\n",
    "odds_tray12_media.update(\n",
    "    {well: \"butanol\" for well in odds_tray12_layout if int(well[1:]) >= 8}\n",
    ")"
   ]
  },
  {
   "cell_type": "code",
   "execution_count": 45,
   "metadata": {
    "collapsed": false
   },
   "outputs": [],
   "source": [
    "# Output cleaned strain layout\n",
    "with open(\"../Data/Growth_data/Cross_tolerance/Cleaned_layouts.txt\", \"w\") as outfile:\n",
    "    print(\"Experiment\", \"Tray\", \"Well\", \"Strain\", \"Medium_addition\", sep=\"\\t\", file=outfile)\n",
    "    for exp, layout in strain_layout.items():\n",
    "        for tray_number in range(1, 13):\n",
    "            grown_substrate = tray_2_substrate[tray_number]\n",
    "            media_dict = {}\n",
    "            if exp == \"odds-n-ends_042415\":\n",
    "                if tray_number == 1:\n",
    "                    layout = strain_layout[\"glutarate_110314\"]\n",
    "                elif tray_number == 2:\n",
    "                    layout = odds_tray2_layout\n",
    "                    media_dict = odds_tray2_media\n",
    "                elif tray_number == 12:\n",
    "                    layout = odds_tray12_layout\n",
    "                    media_dict = odds_tray12_media\n",
    "            for well, strain in layout.items():\n",
    "                med = media_dict.get(well, grown_substrate)\n",
    "                print(exp, tray_number, well, strain, med, sep=\"\\t\", file=outfile)"
   ]
  },
  {
   "cell_type": "code",
   "execution_count": 46,
   "metadata": {
    "collapsed": false
   },
   "outputs": [
    {
     "data": {
      "text/plain": [
       "['hexanoate_plate1_041715',\n",
       " 'coumarate_111114',\n",
       " 'odds-n-ends_042415',\n",
       " 'adipate_012415',\n",
       " '23butanediol_041415',\n",
       " 'putrescine_111914',\n",
       " 'octanoate_030415',\n",
       " 'glutarate_110314',\n",
       " '12propanediol_042215',\n",
       " 'butanol_110714',\n",
       " 'hmda_012215',\n",
       " 'isobutyrate_030215']"
      ]
     },
     "execution_count": 46,
     "metadata": {},
     "output_type": "execute_result"
    }
   ],
   "source": [
    "exp_list"
   ]
  },
  {
   "cell_type": "code",
   "execution_count": 49,
   "metadata": {
    "collapsed": false
   },
   "outputs": [
    {
     "name": "stdout",
     "output_type": "stream",
     "text": [
      "hexanoate_plate1_041715\n",
      "Skipping HEXA on coumarate\n",
      "Skipping HEXA on HMDA\n",
      "Skipping HEXA on hexanoate\n",
      "Skipping HEXA on NaCl\n",
      "coumarate_111114\n",
      "odds-n-ends_042415\n",
      "adipate_012415\n",
      "23butanediol_041415\n",
      "putrescine_111914\n",
      "octanoate_030415\n",
      "glutarate_110314\n",
      "Skipping GLUT on HMDA\n",
      "12propanediol_042215\n",
      "butanol_110714\n",
      "hmda_012215\n",
      "isobutyrate_030215\n"
     ]
    }
   ],
   "source": [
    "cross_tolerance_time_cutoff = 40\n",
    "\n",
    "output_datafile = \"../Data/Growth_data/Cross_tolerance/Extracted_growth_rates_NO_CUT.csv\"\n",
    "all_data = []\n",
    "for exp_name in exp_list:\n",
    "    print(exp_name)\n",
    "    for tray_number in tray_numbers:\n",
    "        if exp_name == \"glutarate_110314\" and tray_number == 6:\n",
    "            # This plate was bad and was rerun in odds-n-ends instead\n",
    "            print(\"Skipping GLUT on\", tray_2_substrate[tray_number])\n",
    "            continue\n",
    "        if exp_name == \"hexanoate_plate1_041715\" and tray_number in [3, 6, 9, 12]:\n",
    "            # These plates were bad and have been rerun\n",
    "            print(\"Skipping HEXA on\", tray_2_substrate[tray_number])\n",
    "            continue\n",
    "        grown_substrate = tray_2_substrate[tray_number]\n",
    "        path = data_dir+\"cross-compound_\"+exp_name+\"_tray\"+str(tray_number)+\".OD.v2.output.json\"\n",
    "        with open(path) as infile:\n",
    "            plate_data = json.load(infile)[\"curves\"]\n",
    "        plate_res = parse_plate_data(plate_data, time_cutoff=cross_tolerance_time_cutoff)\n",
    "        \n",
    "        # Handle special cases of plate layouts\n",
    "        media_dict = {}\n",
    "        if exp_name == \"odds-n-ends_042415\":\n",
    "            if tray_number == 1:\n",
    "                layout = strain_layout[\"glutarate_110314\"]\n",
    "                grown_substrate = \"HMDA\"\n",
    "            elif tray_number == 2:\n",
    "                layout = odds_tray2_layout\n",
    "                media_dict = odds_tray2_media\n",
    "            elif tray_number == 12:\n",
    "                layout = odds_tray12_layout\n",
    "                media_dict = odds_tray12_media\n",
    "            else:\n",
    "                layout = strain_layout[exp_name]\n",
    "        else:\n",
    "            layout = strain_layout[exp_name]\n",
    "        \n",
    "        for well in wells_96:\n",
    "            well_res = plate_res[well]\n",
    "            slope, intercept, baseline = well_res[\"slope\"], well_res[\"intercept\"], well_res[\"baseline\"]\n",
    "            tod1 = well_res[\"tod1\"]\n",
    "            if pd.isnull(tod1):\n",
    "                slope = 0\n",
    "            strain = layout.get(well)\n",
    "            if strain is None:\n",
    "                continue\n",
    "            strain, repl, evolved_substrate = parse_strain(strain)\n",
    "            \n",
    "            all_data.append( (evolved_substrate, media_dict.get(well, grown_substrate), tray_number, strain, repl, slope, tod1, exp_name, well) )\n",
    "\n",
    "\n",
    "# Hexanoate rerun plates\n",
    "rerun_dir = \"../Data/Growth_data/HEXA_rerun_cross_tolerance/\"\n",
    "for tray_number, grown_substrate in [(2, \"coumarate\"), (5, \"HMDA\"), (8, \"hexanoate\"), (11, \"NaCl\")]:\n",
    "    exp_name = \"hexanoate_redoplates\"\n",
    "    path = rerun_dir+\"HEXA_rerun_tray\"+str(tray_number)+\".OD.v2.trim.output.json\"\n",
    "    with open(path) as infile:\n",
    "        plate_data = json.load(infile)[\"curves\"]\n",
    "    plate_res = parse_plate_data(plate_data, time_cutoff=cross_tolerance_time_cutoff)\n",
    "        \n",
    "    for well in wells_96:\n",
    "        well_res = plate_res[well]\n",
    "        slope, intercept, baseline = well_res[\"slope\"], well_res[\"intercept\"], well_res[\"baseline\"]\n",
    "        tod1 = well_res[\"tod1\"]\n",
    "        if pd.isnull(tod1):\n",
    "            slope = 0\n",
    "        strain = strain_layout[\"hexanoate_plate1_041715\"].get(well)\n",
    "\n",
    "        if strain is None:\n",
    "            continue\n",
    "        strain, repl, evolved_substrate = parse_strain(strain)\n",
    "\n",
    "        all_data.append( (evolved_substrate, media_dict.get(well, grown_substrate), tray_number, strain, repl, slope, tod1, exp_name, well) )    \n",
    "\n",
    "df = pd.DataFrame(\n",
    "    all_data, columns=[\n",
    "        \"evolved_compound\",\n",
    "        \"grown_compound\",\n",
    "        \"tray\",\n",
    "        \"strain\",\n",
    "        \"repl\",\n",
    "        \"growth_rate\",\n",
    "        \"tOD1\",\n",
    "        \"exp_name\",\n",
    "        \"well\"\n",
    "    ]\n",
    ")\n",
    "df.to_csv(output_datafile, index=None)"
   ]
  },
  {
   "cell_type": "code",
   "execution_count": 50,
   "metadata": {
    "collapsed": false
   },
   "outputs": [
    {
     "name": "stderr",
     "output_type": "stream",
     "text": [
      "/Users/krisj/anaconda/envs/tolerance/lib/python3.5/site-packages/ipykernel/__main__.py:6: SettingWithCopyWarning: \n",
      "A value is trying to be set on a copy of a slice from a DataFrame.\n",
      "Try using .loc[row_indexer,col_indexer] = value instead\n",
      "\n",
      "See the caveats in the documentation: http://pandas.pydata.org/pandas-docs/stable/indexing.html#indexing-view-versus-copy\n",
      "/Users/krisj/anaconda/envs/tolerance/lib/python3.5/site-packages/ipykernel/__main__.py:7: SettingWithCopyWarning: \n",
      "A value is trying to be set on a copy of a slice from a DataFrame.\n",
      "Try using .loc[row_indexer,col_indexer] = value instead\n",
      "\n",
      "See the caveats in the documentation: http://pandas.pydata.org/pandas-docs/stable/indexing.html#indexing-view-versus-copy\n",
      "/Users/krisj/anaconda/envs/tolerance/lib/python3.5/site-packages/ipykernel/__main__.py:8: SettingWithCopyWarning: \n",
      "A value is trying to be set on a copy of a slice from a DataFrame.\n",
      "Try using .loc[row_indexer,col_indexer] = value instead\n",
      "\n",
      "See the caveats in the documentation: http://pandas.pydata.org/pandas-docs/stable/indexing.html#indexing-view-versus-copy\n"
     ]
    }
   ],
   "source": [
    "processed_df = df[~df[\"strain\"].isin([\"M9 blank\", \"don't use\"])]\n",
    "background_growth = dict(\n",
    "    processed_df[(processed_df[\"strain\"] == \"MG1655\") & (processed_df[\"growth_rate\"] != 0)].groupby([\"exp_name\", \"tray\", \"grown_compound\"]).mean()[\"growth_rate\"]\n",
    ")\n",
    "\n",
    "processed_df[\"background\"] = processed_df.apply(lambda x: background_growth.get((x[\"exp_name\"], x[\"tray\"], x[\"grown_compound\"]), np.nan), axis=1)\n",
    "processed_df[\"rel_growth_rate\"] = processed_df[\"growth_rate\"] - processed_df[\"background\"]\n",
    "processed_df[\"growth_ratio\"] = processed_df[\"growth_rate\"] / processed_df[\"background\"]\n",
    "del processed_df[\"background\"]\n",
    "processed_df.to_csv(\"../Data/Growth_data/Cross_tolerance/Processed_growth_rates_NO_CUT.tsv\", sep=\"\\t\")"
   ]
  },
  {
   "cell_type": "markdown",
   "metadata": {},
   "source": [
    "## M9 screening"
   ]
  },
  {
   "cell_type": "code",
   "execution_count": 23,
   "metadata": {
    "collapsed": false
   },
   "outputs": [],
   "source": [
    "m9_layout = {\"_\".join(key.split(\"_\")[:-1]): val for key, val in strain_layout.items()} # Layout from cross-tolerance screen\n",
    "m9_layout[\"1,2-propanediol\"] = m9_layout[\"12propanediol\"]\n",
    "m9_layout[\"2,3-butanediol\"] = m9_layout[\"23butanediol\"]"
   ]
  },
  {
   "cell_type": "code",
   "execution_count": 24,
   "metadata": {
    "collapsed": false
   },
   "outputs": [],
   "source": [
    "m9_outfile_name = \"../Data/Growth_data/M9/M9_normalised_growth.csv\"\n",
    "m9_data_dir = \"../Data/Growth_data/M9/\"\n",
    "m9_files = [f for f in os.listdir(m9_data_dir) if f.endswith(\"output.json\")]"
   ]
  },
  {
   "cell_type": "code",
   "execution_count": 25,
   "metadata": {
    "collapsed": false
   },
   "outputs": [
    {
     "name": "stdout",
     "output_type": "stream",
     "text": [
      "../Data/Growth_data/M9/12PD.OD.v2.output.json\n",
      "../Data/Growth_data/M9/23BD.OD.v2.output.json\n",
      "../Data/Growth_data/M9/ADIP.OD.v2.output.json\n",
      "../Data/Growth_data/M9/BUT.OD.v2.output.json\n",
      "../Data/Growth_data/M9/COUM.OD.v2.output.json\n",
      "../Data/Growth_data/M9/GLUT.OD.v2.output.json\n",
      "../Data/Growth_data/M9/HEXA_group1.OD.v2.output.json\n",
      "../Data/Growth_data/M9/HMDA.OD.v2.output.json\n",
      "../Data/Growth_data/M9/IBUA.OD.v2.output.json\n",
      "../Data/Growth_data/M9/OCTA.OD.v2.output.json\n",
      "../Data/Growth_data/M9/PUTR.OD.v2.output.json\n"
     ]
    }
   ],
   "source": [
    "m9_data = []\n",
    "for filename in m9_files:\n",
    "        exp_name = filename.split(\".\")[0]\n",
    "        grown_substrate = \"M9\"\n",
    "        path = m9_data_dir+filename\n",
    "        print(path)\n",
    "        with open(path) as infile:\n",
    "            plate_data = json.load(infile)[\"curves\"]\n",
    "        plate_res = parse_plate_data(plate_data, time_cutoff=30, phase_length_cutoff=2)\n",
    "        \n",
    "        wild_type = []\n",
    "        for well in [\"A1\", \"B1\", \"C1\", \"D1\", \"E1\"]:  # wild types\n",
    "            well_res = plate_res[well]\n",
    "            slope, intercept, baseline, has_growth = well_res[\"slope\"], well_res[\"intercept\"], well_res[\"baseline\"], well_res[\"growth\"]\n",
    "            if has_growth:\n",
    "                wild_type.append(slope)\n",
    "        if len(wild_type) < 1:\n",
    "            raise Exception(\"Something is wrong\")\n",
    "        wild_type = sum(wild_type) / len(wild_type)\n",
    "        \n",
    "        for well in wells_96:\n",
    "            well_res = plate_res[well]\n",
    "            slope, intercept, baseline, has_growth = well_res[\"slope\"], well_res[\"intercept\"], well_res[\"baseline\"], well_res[\"growth\"]\n",
    "            rel_slope = slope - wild_type\n",
    "            slope_ratio = slope / wild_type\n",
    "            #print(rel_slope)\n",
    "            compound_name = strain_2_compound[filename.split(\".\")[0].split(\"_\")[0]].lower()\n",
    "            if compound_name == \"hexanoate\":\n",
    "                compound_name = \"hexanoate_plate1\"\n",
    "            strain = m9_layout[compound_name].get(well)\n",
    "\n",
    "            if strain is None:\n",
    "                continue\n",
    "            strain, repl, evolved_substrate = parse_strain(strain)\n",
    "\n",
    "            m9_data.append( (evolved_substrate, grown_substrate, strain, repl, slope, rel_slope, slope_ratio, exp_name) )\n",
    "\n",
    "m9_df = pd.DataFrame(m9_data, columns=[\"evolved_compound\", \"grown_compound\", \"strain\", \"repl\", \"growth_rate\", \"rel_growth_rate\", \"growth_ratio\", \"exp_name\"])\n",
    "m9_df.to_csv(m9_outfile_name, index=None)"
   ]
  },
  {
   "cell_type": "markdown",
   "metadata": {},
   "source": [
    "## Keio screenings"
   ]
  },
  {
   "cell_type": "code",
   "execution_count": 26,
   "metadata": {
    "collapsed": true
   },
   "outputs": [],
   "source": [
    "keio_dir = \"../Data/Growth_data/KEIO_primary/\"\n",
    "files = [f for f in os.listdir(keio_dir) if f.endswith(\".json\")]"
   ]
  },
  {
   "cell_type": "code",
   "execution_count": 27,
   "metadata": {
    "collapsed": true
   },
   "outputs": [],
   "source": [
    "def read_plate_layout(sheet, start_row=0, start_col=0):\n",
    "    layout = {}\n",
    "    for i, row in enumerate((\"A\", \"B\", \"C\", \"D\", \"E\", \"F\", \"G\", \"H\")):\n",
    "        for j in range(1, 13):\n",
    "            well = row+str(j)\n",
    "            cell = sheet.cell_value(start_row+i+1, start_col+j)\n",
    "            if cell:\n",
    "                layout[well] = cell\n",
    "    return layout"
   ]
  },
  {
   "cell_type": "code",
   "execution_count": 28,
   "metadata": {
    "collapsed": false
   },
   "outputs": [],
   "source": [
    "primary_sheets = [\n",
    "    \"plate1-BUT GLUT COUM PUTR\",\n",
    "    \"plate2-HMDA ADIP IBUA HEXA\",\n",
    "    \"plate3-23BD 12PD OCTA\",\n",
    "    \"plate4 - multi-chem\"\n",
    "]\n",
    "\n",
    "primary_strain_layout = {}\n",
    "primary_media_layout = {}\n",
    "\n",
    "worksheet = xlrd.open_workbook(\n",
    "    \"../Data/Growth_data/KEIO_primary/Keio_plates_KO_screening-modifications_fixed.xlsx\"\n",
    ")\n",
    "for sheet_name in primary_sheets:\n",
    "    sheet = worksheet.sheet_by_name(sheet_name)\n",
    "    plate_name = sheet_name.split(\"-\")[0].strip()\n",
    "    if plate_name == \"plate4\":\n",
    "        plate_name = \"plate4-1\"\n",
    "    strain_layout = read_plate_layout(sheet, 0, 0)\n",
    "    media_layout = read_plate_layout(sheet, 20, 0)\n",
    "    primary_strain_layout[plate_name] = strain_layout\n",
    "    primary_media_layout[plate_name] = media_layout\n",
    "    \n",
    "    if plate_name == \"plate4-1\":\n",
    "        plate_name = \"plate4-2\"\n",
    "        \n",
    "        main_strain_layout = strain_layout\n",
    "        strain_layout = read_plate_layout(sheet, 0, 0)\n",
    "        media_layout = read_plate_layout(sheet, 30, 0)\n",
    "        \n",
    "        for well, med in list(media_layout.items()):\n",
    "            if \"(\" in med:\n",
    "                med, strain_well = med.strip().split()\n",
    "                assert strain_well.startswith(\"(\")\n",
    "                assert strain_well.endswith(\")\")\n",
    "                strain_well = strain_well[1:-1]\n",
    "                strain_layout[well] = main_strain_layout[strain_well]\n",
    "                media_layout[well] = med\n",
    "                # print(well, strain_layout[well])\n",
    "        primary_strain_layout[plate_name] = strain_layout\n",
    "        primary_media_layout[plate_name] = media_layout           "
   ]
  },
  {
   "cell_type": "code",
   "execution_count": 29,
   "metadata": {
    "collapsed": false
   },
   "outputs": [],
   "source": [
    "tray_2_contents = {\n",
    "    \"tray1\": (\"plate1\", \"low\"),\n",
    "    \"tray2\": (\"plate2\", \"low\"),\n",
    "    \"tray3\": (\"plate3\", \"low\"),\n",
    "    \"tray4\": (\"plate1\", \"high\"),\n",
    "    \"tray5\": (\"plate2\", \"high\"),\n",
    "    \"tray6\": (\"plate3\", \"high\"),\n",
    "    \"tray7\": (\"plate4-1\", \"low\"),\n",
    "    \"tray8\": (\"plate4-2\", \"low\"),\n",
    "    \"tray10\": (\"plate4-1\", \"high\"),\n",
    "    \"tray11\": (\"plate4-2\", \"high\")\n",
    "}\n",
    "\n",
    "compound_concentrations = {\n",
    "    \"12PD\": {\"low\": 6, \"high\": 8, \"unit\": \"% v/v\"},\n",
    "    \"23BD\": {\"low\": 6, \"high\": 7, \"unit\": \"% v/v\"},\n",
    "    \"HMDA\": {\"low\": 32, \"high\": 38, \"unit\": \"g/L\"},\n",
    "    \"PUTR\": {\"low\": 32, \"high\": 38, \"unit\": \"g/L\"},\n",
    "    \"GLUT\": {\"low\": 40, \"high\": 47.5, \"unit\": \"g/L\"},\n",
    "    \"ADIP\": {\"low\": 45, \"high\": 50, \"unit\": \"g/L\"},\n",
    "    \"HEXA\": {\"low\": 3, \"high\": 5, \"unit\": \"g/L\"},\n",
    "    \"OCTA\": {\"low\": 8, \"high\": 10, \"unit\": \"g/L\"},\n",
    "    \"COUM\": {\"low\": 7.5, \"high\": 10, \"unit\": \"g/L\"},\n",
    "    \"IBUA\": {\"low\": 7.5, \"high\": 12.5, \"unit\": \"g/L\"},\n",
    "    \"BUT\": {\"low\": 1.4, \"high\": 1, \"unit\": \"% v/v\"},\n",
    "}\n",
    "\n",
    "keio_data = []\n",
    "\n",
    "for file in files:\n",
    "    with open(keio_dir+file) as infile:\n",
    "        curves = json.load(infile)[\"curves\"]\n",
    "    plate_result = parse_plate_data(\n",
    "        curves,\n",
    "        max_slope=0.7\n",
    "    )\n",
    "    tray_name = file.split(\".\")[0].split(\"_\")[-1]\n",
    "    plate_name, conc = tray_2_contents[tray_name]\n",
    "    \n",
    "    strain_layout = primary_strain_layout[plate_name]\n",
    "    media_layout = primary_media_layout[plate_name]\n",
    "    \n",
    "    for well, dat in plate_result.items():\n",
    "        slope = dat[\"slope\"]\n",
    "        try:\n",
    "            strain = strain_layout[well].strip()\n",
    "            media = media_layout[well].strip()\n",
    "        except KeyError:\n",
    "            continue\n",
    "        \n",
    "        keio_data.append({\"strain\": strain, \"compound\": media, \"concentration\": conc, \"plate\": plate_name, \"well\": well, \"growth_rate\": slope})\n",
    "        \n",
    "    \n",
    "primary_df = pd.DataFrame(keio_data)[[\"strain\", \"compound\", \"concentration\", \"plate\", \"well\", \"growth_rate\"]]\n",
    "primary_df = primary_df[primary_df[\"plate\"] != \"plate4-2\"]\n",
    "\n",
    "def relative_growth_rate(idx):\n",
    "    row = primary_df.loc[idx]\n",
    "    normalise_df = primary_df[\n",
    "        (primary_df[\"strain\"] == \"BW25113\") &\n",
    "        (primary_df[\"compound\"] == row[\"compound\"]) &\n",
    "        (primary_df[\"concentration\"] == row[\"concentration\"]) &\n",
    "        (primary_df[\"plate\"] == row[\"plate\"]) &\n",
    "        (primary_df[\"growth_rate\"] != 0)\n",
    "    ]\n",
    "    if len(normalise_df) == 0:\n",
    "        return np.nan\n",
    "    else:\n",
    "        return row[\"growth_rate\"] - normalise_df[\"growth_rate\"].mean()\n",
    "    \n",
    "primary_df[\"rel_growth_rate\"] = primary_df.index.map(relative_growth_rate)\n",
    "primary_df[\"concentration_level\"] = primary_df[\"concentration\"].copy()\n",
    "primary_df[\"concentration\"] = primary_df.apply(\n",
    "    lambda x: \"%.1f %s\" % (\n",
    "        compound_concentrations[x[\"compound\"]][x[\"concentration_level\"]],\n",
    "        compound_concentrations[x[\"compound\"]][\"unit\"]),\n",
    "    axis=1\n",
    ")\n",
    "primary_df = primary_df.sort_values([\"compound\", \"concentration_level\", \"strain\"])\n",
    "primary_df.to_csv(\"../Data/Growth_data/KEIO_primary/Keio_growth_rates.tsv\", sep=\"\\t\", index=None)"
   ]
  },
  {
   "cell_type": "markdown",
   "metadata": {
    "collapsed": true
   },
   "source": [
    "## Reconstructions"
   ]
  },
  {
   "cell_type": "code",
   "execution_count": 30,
   "metadata": {
    "collapsed": true
   },
   "outputs": [],
   "source": [
    "ko_data_dir = \"../Data/Growth_data/Reconstructions/knockout growth data/raw Biolector data/\"\n",
    "mage_data_dir = \"../Data/Growth_data/Reconstructions/MAGE mutant growth data/raw Biolector data/\""
   ]
  },
  {
   "cell_type": "code",
   "execution_count": 31,
   "metadata": {
    "collapsed": true
   },
   "outputs": [],
   "source": [
    "ko_xls_files = [f for f in os.listdir(ko_data_dir) if f.endswith(\".xlsx\") and not f.startswith(\"~\")]\n",
    "mage_xls_files = [f for f in os.listdir(mage_data_dir) if f.endswith(\".xlsx\") and not f.startswith(\"~\")]"
   ]
  },
  {
   "cell_type": "code",
   "execution_count": 32,
   "metadata": {
    "collapsed": true
   },
   "outputs": [],
   "source": [
    "def strip_strain(strain):\n",
    "    strain = strain.split(\" \")[0]\n",
    "    m1 = re.search(r\"-\\d+$\", strain)\n",
    "    m2 = re.search(r\"_\\d+$\", strain)\n",
    "    if m1:\n",
    "        strain = re.split(r\"-\\d+$\", strain)[0]\n",
    "    elif m2:\n",
    "        strain = re.split(r\"_\\d+$\", strain)[0]\n",
    "    if strain.lower() in (\"nothing\", \"medium\", \"blank\", \"m9\"):\n",
    "        return None\n",
    "    return strain\n",
    "\n",
    "def strip_medium(med):\n",
    "    comp_str = med.split(\"+\")\n",
    "    if len(comp_str) > 1:\n",
    "        comp_str = comp_str[1].strip()\n",
    "    else:\n",
    "        return \"M9\"\n",
    "    comp = comp_str.split()[-1]\n",
    "    return comp\n",
    "    \n",
    "\n",
    "ko_layouts = {}\n",
    "for f in ko_xls_files:\n",
    "    workbook = xlrd.open_workbook(ko_data_dir + f)\n",
    "    sheet = workbook.sheet_by_index(1)\n",
    "    exp_name = f.split(\".\")[0]\n",
    "    ko_layouts[exp_name] = {}\n",
    "    for i, (well, strain) in enumerate(zip(sheet.col_slice(0), sheet.col_slice(2))):\n",
    "        if i == 0:\n",
    "            continue\n",
    "        elif not well.value:\n",
    "            break\n",
    "        ko_layouts[exp_name][well.value] = strip_strain(strain.value)\n",
    "        \n",
    "with open(\"../Data/Growth_data/Reconstructions/knockout growth data/knockout_layouts.json\", \"w\") as outfile:\n",
    "    json.dump(ko_layouts, outfile)\n",
    "    \n",
    "mage_layouts = {}\n",
    "mage_media_layouts = {}\n",
    "for f in mage_xls_files:\n",
    "    workbook = xlrd.open_workbook(mage_data_dir + f)\n",
    "    sheet = workbook.sheet_by_index(1)\n",
    "    exp_name = f.split(\".\")[0]\n",
    "    mage_layouts[exp_name] = {}\n",
    "    mage_media_layouts[exp_name] = {}\n",
    "    for i, (well, strain, medium) in enumerate(zip(sheet.col_slice(0), sheet.col_slice(2), sheet.col_slice(3))):\n",
    "        if i == 0:\n",
    "            continue\n",
    "        elif not well.value:\n",
    "            break\n",
    "        mage_layouts[exp_name][well.value] = strip_strain(strain.value)\n",
    "        mage_media_layouts[exp_name][well.value] = strip_medium(medium.value)\n",
    "        \n",
    "with open(\"../Data/Growth_data/Reconstructions/MAGE mutant growth data/mage_layouts.json\", \"w\") as outfile:\n",
    "    json.dump(mage_layouts, outfile)"
   ]
  },
  {
   "cell_type": "code",
   "execution_count": 33,
   "metadata": {
    "collapsed": false
   },
   "outputs": [],
   "source": [
    "json_ko_data_dir = \"../Data/Growth_data/Reconstructions/knockout growth data/output/\"\n",
    "ko_experiments = [f for f in os.listdir(json_ko_data_dir) if f.endswith(\".json\")]\n",
    "\n",
    "json_mage_data_dir = \"../Data/Growth_data/Reconstructions/MAGE mutant growth data/output/\"\n",
    "mage_experiments = [f for f in os.listdir(json_mage_data_dir) if f.endswith(\".json\")]"
   ]
  },
  {
   "cell_type": "code",
   "execution_count": 35,
   "metadata": {
    "collapsed": false
   },
   "outputs": [],
   "source": [
    "data = []\n",
    "\n",
    "for exp in ko_experiments:\n",
    "    if \"glutarate\" not in exp:\n",
    "        pass\n",
    "    compound = exp.split(\"_\")[1]\n",
    "    exp_name = exp.split(os.path.extsep)[0]\n",
    "    with open(json_ko_data_dir + exp) as infile:\n",
    "        dat = json.load(infile)\n",
    "    res = parse_plate_data(\n",
    "        dat[\"curves\"], time_cutoff=24, phase_length_cutoff=5, max_abs_baseline=3, max_baseline_dev=3\n",
    "    )\n",
    "    for well, dat in res.items():\n",
    "        rate, growth = dat[\"slope\"], dat[\"growth\"]\n",
    "        strain = ko_layouts[exp_name][well]\n",
    "        if strain is None or strain == \"\":\n",
    "            continue\n",
    "        if strain.endswith(\"-sm\") or strain.endswith(\"-lg\"):\n",
    "            strain = strain[:-3]\n",
    "        if strain == \"M9\":\n",
    "            raise ValueError(exp, well)\n",
    "        data.append({\"strain\": strain, \"compound\": compound, \"growth_rate\": rate, \"experiment\": exp_name, \"well\": well})\n",
    "        \n",
    "ko_df = pd.DataFrame(data)[[\"strain\", \"compound\", \"growth_rate\", \"experiment\", \"well\"]]\n",
    "wt_grs = dict(ko_df[ko_df[\"strain\"] == \"MG1655\"].groupby(\"experiment\").mean()[\"growth_rate\"])\n",
    "ko_df[\"rel_growth_rate\"] = ko_df.apply(lambda x: x[\"growth_rate\"] - wt_grs[x[\"experiment\"]], axis=1)"
   ]
  },
  {
   "cell_type": "code",
   "execution_count": 36,
   "metadata": {
    "collapsed": false
   },
   "outputs": [],
   "source": [
    "data = []\n",
    "for exp in mage_experiments:\n",
    "    if \"glutarate\" not in exp:\n",
    "        pass\n",
    "    \n",
    "    exp_name = exp.split(os.path.extsep)[0]\n",
    "    with open(json_mage_data_dir + exp) as infile:\n",
    "        dat = json.load(infile)\n",
    "    res = parse_plate_data(dat[\"curves\"])\n",
    "    for well, dat in res.items():\n",
    "        rate, growth = dat[\"slope\"], dat[\"growth\"]\n",
    "        strain = mage_layouts[exp_name][well]\n",
    "        if strain is None or strain == \"\":\n",
    "            continue\n",
    "        if strain.endswith(\"-sm\") or strain.endswith(\"-lg\"):\n",
    "            strain = strain[:-3]\n",
    "        compound = mage_media_layouts[exp_name][well]\n",
    "        data.append({\"strain\": strain, \"compound\": compound, \"growth_rate\": rate, \"experiment\": exp_name, \"well\": well})\n",
    "        \n",
    "mage_df = pd.DataFrame(data)[[\"strain\", \"compound\", \"growth_rate\", \"experiment\", \"well\"]]\n",
    "mage_wt_grs = dict(mage_df[mage_df[\"strain\"] == \"MG1655\"].groupby(\"experiment\").mean()[\"growth_rate\"])\n",
    "mage_df[\"rel_growth_rate\"] = mage_df.apply(lambda x: x[\"growth_rate\"] - mage_wt_grs[x[\"experiment\"]], axis=1)"
   ]
  },
  {
   "cell_type": "code",
   "execution_count": 37,
   "metadata": {
    "collapsed": false
   },
   "outputs": [],
   "source": [
    "recon_df = pd.concat([ko_df, mage_df])"
   ]
  },
  {
   "cell_type": "code",
   "execution_count": 38,
   "metadata": {
    "collapsed": false
   },
   "outputs": [],
   "source": [
    "recon_df.to_csv(\"../Data/Growth_data/Reconstructions/Reconstruction_dataframe.tsv\", sep=\"\\t\")"
   ]
  },
  {
   "cell_type": "code",
   "execution_count": null,
   "metadata": {
    "collapsed": true
   },
   "outputs": [],
   "source": []
  }
 ],
 "metadata": {
  "anaconda-cloud": {},
  "kernelspec": {
   "display_name": "Python [tolerance]",
   "language": "python",
   "name": "Python [tolerance]"
  },
  "language_info": {
   "codemirror_mode": {
    "name": "ipython",
    "version": 3
   },
   "file_extension": ".py",
   "mimetype": "text/x-python",
   "name": "python",
   "nbconvert_exporter": "python",
   "pygments_lexer": "ipython3",
   "version": "3.5.2"
  }
 },
 "nbformat": 4,
 "nbformat_minor": 0
}

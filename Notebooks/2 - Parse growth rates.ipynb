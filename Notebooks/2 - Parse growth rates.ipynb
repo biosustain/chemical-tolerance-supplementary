{
 "cells": [
  {
   "cell_type": "markdown",
   "metadata": {},
   "source": [
    "# Parse growth rates"
   ]
  },
  {
   "cell_type": "markdown",
   "metadata": {},
   "source": [
    "This notebook reads the output from croissance and extracts the relevant growth rates and associates them with the right strains using the plate layouts."
   ]
  },
  {
   "cell_type": "code",
   "execution_count": 32,
   "metadata": {
    "collapsed": false
   },
   "outputs": [],
   "source": [
    "from croissance_parsing import parse_plate_data # Local module in this directory\n",
    "import pandas as pd\n",
    "import xlrd\n",
    "import json\n",
    "import re"
   ]
  },
  {
   "cell_type": "markdown",
   "metadata": {},
   "source": [
    "## Initial screens (Biolector)"
   ]
  },
  {
   "cell_type": "code",
   "execution_count": 21,
   "metadata": {
    "collapsed": true
   },
   "outputs": [],
   "source": [
    "data_dir = \"../Data/Growth_data/initial_tolerance_tests/\"\n",
    "screen_exps = {\n",
    "    'butanol': 'tolerance_012714_butanol_coumarate.xlsx',\n",
    "    'glutarate': 'tolerance_021014_coumarate_glutarate.xlsx',\n",
    "    'coumarate': 'tolerance_021014_coumarate_glutarate.xlsx',\n",
    "    'putrescine': 'tolerance_021114_adipic-acid_putrescine.xlsx',\n",
    "    'HMDA': 'tolerance_012814_HDMA_6-aminohexanoic.xlsx',\n",
    "    'adipate': 'tolerance_031914_adipate_propionate.xlsx',\n",
    "    'isobutyrate': 'tolerance_040214_2,5-furandicarboxylate_isobutyrate.xlsx',\n",
    "    'hexanoate': 'tolerance_021214_2,3-butanediol_hexanoic-acid.xlsx',\n",
    "    '2,3-butanediol': 'tolerance_021214_2,3-butanediol_hexanoic-acid.xlsx',\n",
    "    '1,2-propanediol': 'tolerance_032914_1,2-pentanediol_1,2-propanediol.xlsx',\n",
    "    'octanoate': 'tolerance_081914_octanoate_caffeate.xlsx',\n",
    "}"
   ]
  },
  {
   "cell_type": "code",
   "execution_count": 22,
   "metadata": {
    "collapsed": false
   },
   "outputs": [],
   "source": [
    "def parse_content(string):\n",
    "    \"\"\"Parse the media content of a well in the excel layout file\"\"\"\n",
    "    string = string.replace(\"%\", \" %\")\n",
    "    try:\n",
    "        conc, unit, comp, *junk = string.split()\n",
    "    except ValueError:\n",
    "        raise ValueError(string)\n",
    "    assert unit.lower() in (\"g/l\", \"v/v\", \"%\"), unit\n",
    "    conc = float(conc)\n",
    "    return conc, unit, comp\n",
    "\n",
    "# Read the excel files\n",
    "layouts = {}\n",
    "for comp, filename in screen_exps.items():\n",
    "    layouts[comp] = {}\n",
    "    workbook = xlrd.open_workbook(data_dir+\"raw Biolector data/\"+filename)\n",
    "    sheet = workbook.sheet_by_name(\"subtracted\")\n",
    "    for well, content in zip(sheet.col_slice(0), sheet.col_slice(2)):\n",
    "        well, content = well.value, content.value\n",
    "        if well == \"\":\n",
    "            continue\n",
    "        # Skip any cells containing \"pentane\" to not confuse 12-propanediol with 12-pentanediol\n",
    "        if comp[:4] in content and \"pentane\" not in content: \n",
    "            layouts[comp][well] = parse_content(content)"
   ]
  },
  {
   "cell_type": "code",
   "execution_count": 23,
   "metadata": {
    "collapsed": false
   },
   "outputs": [],
   "source": [
    "# Parse the growth phases from the croissance output\n",
    "growth_rates = {}\n",
    "for comp, name in screen_exps.items():\n",
    "    growth_rates[comp] = {}\n",
    "    name = name.split(\".\")[0] + \".OD.v2.output.json\"\n",
    "    with open(data_dir + \"output/\" + name) as infile:\n",
    "        json_data = json.load(infile)\n",
    "        curves = json_data[\"curves\"]\n",
    "    data = parse_plate_data(\n",
    "        curves,\n",
    "        phase_length_cutoff=3,\n",
    "        max_abs_baseline=4,\n",
    "        max_baseline_dev=4,\n",
    "        time_cutoff=20,\n",
    "        verbose=False\n",
    "    )\n",
    "    for well in layouts[comp]:\n",
    "        growth_rates[comp][well] = data[well]['slope']"
   ]
  },
  {
   "cell_type": "code",
   "execution_count": 24,
   "metadata": {
    "collapsed": true
   },
   "outputs": [],
   "source": [
    "data = []\n",
    "for comp in layouts:\n",
    "    for well, (conc, unit, med) in layouts[comp].items():\n",
    "        data.append(\n",
    "            {\"compound\": comp, \"conc\": conc,\n",
    "             \"growth_rate\": growth_rates[comp][well],\n",
    "             \"medium\": med, \"unit\": unit, \"well\": well}\n",
    "        )\n",
    "df = pd.DataFrame(data)\n",
    "df.to_csv(\"../Data/Growth_data/initial_tolerance_tests/Initial_tolerance_data_frame.tsv\", sep=\"\\t\", index=None)"
   ]
  },
  {
   "cell_type": "markdown",
   "metadata": {},
   "source": [
    "## Evolved isolate screening (Biolector)"
   ]
  },
  {
   "cell_type": "code",
   "execution_count": 26,
   "metadata": {
    "collapsed": true
   },
   "outputs": [],
   "source": [
    "data_dir = \"../Data/Growth_data/evolved-isolate-growth-data/\"\n",
    "exp_list = {\n",
    "    'ALE_1,2-propanediol_duplicates_121514': \"1,2-propanediol\",\n",
    "    'ALE_2,3-butanediol_duplicates_122414': \"2,3-butanediol\",\n",
    "    'ALE_adipate_duplicates_091014': \"adipate\",\n",
    "    'ALE_butanol_duplicates_060514': \"butanol\",\n",
    "    'ALE_coumarate_duplicates_061914': \"coumarate\",\n",
    "    'ALE_glutarate_duplicates_060214': \"glutarate\",\n",
    "    'ALE_HDMA_duplicates_080114': \"HMDA\",\n",
    "    'ALE_hexanoate_duplicates_101314': \"hexanoate\",\n",
    "    'ALE_isobutyrate_duplicates_091114': \"isobutyrate\",\n",
    "    'ALE_octanoate_duplicates_122214': \"octanoate\",\n",
    "    'ALE_putrescine_duplicates_073014': \"putrescine\",\n",
    "}"
   ]
  },
  {
   "cell_type": "code",
   "execution_count": 27,
   "metadata": {
    "collapsed": false
   },
   "outputs": [],
   "source": [
    "layouts = {}\n",
    "for exp, comp in exp_list.items():\n",
    "    date = exp.split(\"_\")[-1]\n",
    "    excel_name = exp + \".xlsx\"\n",
    "    layouts[exp] = {}\n",
    "    workbook = xlrd.open_workbook(data_dir + \"raw Biolector data/\" + excel_name)\n",
    "    sheet = workbook.sheet_by_name(\"subtracted\")\n",
    "    for well, strain in zip(sheet.col_slice(0), sheet.col_slice(2)):\n",
    "        well, strain = well.value, strain.value\n",
    "        if well == \"\":\n",
    "            continue\n",
    "        layouts[exp][well] = strain"
   ]
  },
  {
   "cell_type": "code",
   "execution_count": 28,
   "metadata": {
    "collapsed": true
   },
   "outputs": [],
   "source": [
    "growth_rates = {}\n",
    "for exp in exp_list:\n",
    "    growth_rates[exp] = {}\n",
    "    with open(data_dir + \"output/\" + exp + \".v2.output.json\") as f:\n",
    "        json_data = json.load(f)\n",
    "    curves = json_data[\"curves\"]\n",
    "    data = parse_plate_data(\n",
    "        curves,\n",
    "        phase_length_cutoff=3,\n",
    "        max_abs_baseline=3,\n",
    "        max_baseline_dev=3,\n",
    "        verbose=False\n",
    "    )\n",
    "    for well in layouts[exp]:\n",
    "        growth_rates[exp][well] = data[well][\"slope\"]"
   ]
  },
  {
   "cell_type": "code",
   "execution_count": 29,
   "metadata": {
    "collapsed": true
   },
   "outputs": [],
   "source": [
    "def parse_strain(strain):\n",
    "    if strain.startswith(\"MG1655\"):\n",
    "        strain = strain.replace(\"-\", \"_\")\n",
    "    strain, repl = strain.split(\"_\", 1)\n",
    "    repl = int(repl)\n",
    "    return strain, repl\n",
    "\n",
    "data = []\n",
    "for exp, comp in exp_list.items():\n",
    "    for well, strain in layouts[exp].items():\n",
    "        strain, repl = parse_strain(strain)\n",
    "        if \"HDMA\" in strain:\n",
    "            strain = strain.replace(\"HDMA\", \"HMDA\")\n",
    "        gr = growth_rates[exp][well]\n",
    "        data.append(\n",
    "            {\"compound\": comp, \"strain\": strain, \"growth_rate\": gr,\n",
    "             \"experiment\": exp, \"well\": well, \"repl\": repl}\n",
    "        )\n",
    "df = pd.DataFrame(data)\n",
    "df.to_csv(\"../Data/Growth_data/evolved-isolate-growth-data/Evolved_isolates_data_frame.tsv\", sep=\"\\t\", index=None)"
   ]
  },
  {
   "cell_type": "markdown",
   "metadata": {},
   "source": [
    "## Cross tolerance screening (Growth profiler)"
   ]
  },
  {
   "cell_type": "code",
   "execution_count": 30,
   "metadata": {
    "collapsed": true
   },
   "outputs": [],
   "source": [
    "data_dir = \"../Data/Growth_data/Cross_tolerance/\"\n",
    "tray_2_substrate = {1: \"butanol\",\n",
    "    2: \"glutarate\",\n",
    "    3: \"coumarate\",\n",
    "    4: \"2,3-butanediol\",\n",
    "    5: \"putrescine\",\n",
    "    6: \"HMDA\",\n",
    "    7: \"adipate\",\n",
    "    8: \"isobutyrate\",\n",
    "    9: \"hexanoate\",\n",
    "    10: \"octanoate\",\n",
    "    11: \"1,2-propanediol\",\n",
    "    12: \"NaCl\"\n",
    "}"
   ]
  },
  {
   "cell_type": "code",
   "execution_count": 34,
   "metadata": {
    "collapsed": false
   },
   "outputs": [],
   "source": [
    "layout_filename = \"../Data/Growth_data/Cross_tolerance/plate_layout.txt\"\n",
    "strain_layout = {}\n",
    "with open(layout_filename) as infile:\n",
    "    for line in infile:\n",
    "        date_exp, well, strain = line.strip(\"\\n\").split(\"\\t\")\n",
    "        date_exp = \"\".join(date_exp.split(\",\")) # remove , from e.g. 1,2-propanediol\n",
    "        date_exp = \"\".join(date_exp.split(\"-\")) # remove - from e.g. 1,2-propanediol\n",
    "        date = \"_\".join(date_exp.split(\"_\")[::-1])\n",
    "        if \"hexanoate_041715\" in date:\n",
    "            date = date.replace(\"hexanoate_041715\", \"hexanoate_plate1_041715\") # Use consistent naming\n",
    "        if \"oddsnends\" in date:\n",
    "            date = date.replace(\"oddsnends\", \"odds-n-ends\") # Use consistent naming\n",
    "        strain = re.sub(r\"HDMA\", \"HMDA\", strain) # Fix a typo\n",
    "        strain_layout.setdefault(date, {})[well] = strain"
   ]
  },
  {
   "cell_type": "code",
   "execution_count": 60,
   "metadata": {
    "collapsed": true
   },
   "outputs": [],
   "source": [
    "with open(\"../Data/Mutation_data/Strain_to_genes.json\") as infile:\n",
    "    new_genotypes = {k: set(v) for k, v in json.load(infile).items()}"
   ]
  },
  {
   "cell_type": "code",
   "execution_count": 61,
   "metadata": {
    "collapsed": true
   },
   "outputs": [],
   "source": [
    "with open(\"../../Data/Mutations/Strain_to_genes.json\") as infile:\n",
    "    old_genotypes = {k: set(v) for k, v in json.load(infile).items()}"
   ]
  },
  {
   "cell_type": "code",
   "execution_count": 62,
   "metadata": {
    "collapsed": false
   },
   "outputs": [
    {
     "data": {
      "text/plain": [
       "401"
      ]
     },
     "execution_count": 62,
     "metadata": {},
     "output_type": "execute_result"
    }
   ],
   "source": [
    "len(set.union(*new_genotypes.values()))"
   ]
  },
  {
   "cell_type": "code",
   "execution_count": 63,
   "metadata": {
    "collapsed": false
   },
   "outputs": [
    {
     "data": {
      "text/plain": [
       "399"
      ]
     },
     "execution_count": 63,
     "metadata": {},
     "output_type": "execute_result"
    }
   ],
   "source": [
    "len(set.union(*old_genotypes.values()))"
   ]
  },
  {
   "cell_type": "code",
   "execution_count": 65,
   "metadata": {
    "collapsed": false
   },
   "outputs": [
    {
     "data": {
      "text/plain": [
       "{'rrfD', 'rrlD'}"
      ]
     },
     "execution_count": 65,
     "metadata": {},
     "output_type": "execute_result"
    }
   ],
   "source": [
    "set.union(*new_genotypes.values()) - set.union(*old_genotypes.values())"
   ]
  },
  {
   "cell_type": "code",
   "execution_count": 39,
   "metadata": {
    "collapsed": false
   },
   "outputs": [
    {
     "data": {
      "text/plain": [
       "False"
      ]
     },
     "execution_count": 39,
     "metadata": {},
     "output_type": "execute_result"
    }
   ],
   "source": [
    "new_genotypes == old_genotypes"
   ]
  },
  {
   "cell_type": "code",
   "execution_count": 40,
   "metadata": {
    "collapsed": false
   },
   "outputs": [
    {
     "data": {
      "text/plain": [
       "190"
      ]
     },
     "execution_count": 40,
     "metadata": {},
     "output_type": "execute_result"
    }
   ],
   "source": [
    "len(new_genotypes)"
   ]
  },
  {
   "cell_type": "code",
   "execution_count": 41,
   "metadata": {
    "collapsed": false
   },
   "outputs": [
    {
     "data": {
      "text/plain": [
       "189"
      ]
     },
     "execution_count": 41,
     "metadata": {},
     "output_type": "execute_result"
    }
   ],
   "source": [
    "len(old_genotypes)"
   ]
  },
  {
   "cell_type": "code",
   "execution_count": 42,
   "metadata": {
    "collapsed": false
   },
   "outputs": [
    {
     "data": {
      "text/plain": [
       "{'IBUA8-3'}"
      ]
     },
     "execution_count": 42,
     "metadata": {},
     "output_type": "execute_result"
    }
   ],
   "source": [
    "set(new_genotypes) - set(old_genotypes)"
   ]
  },
  {
   "cell_type": "code",
   "execution_count": 43,
   "metadata": {
    "collapsed": false
   },
   "outputs": [
    {
     "data": {
      "text/plain": [
       "False"
      ]
     },
     "execution_count": 43,
     "metadata": {},
     "output_type": "execute_result"
    }
   ],
   "source": [
    "{k: new_genotypes[k] for k in old_genotypes} == old_genotypes"
   ]
  },
  {
   "cell_type": "code",
   "execution_count": 47,
   "metadata": {
    "collapsed": false
   },
   "outputs": [
    {
     "name": "stdout",
     "output_type": "stream",
     "text": [
      "COUM3-10 ['atpI', 'dacA', 'hns', 'manY', 'pyrE', 'rho', 'rph', 'rpoB', 'tdk'] ['atpI', 'dacA', 'hns', 'manY', 'mprA', 'pyrE', 'rho', 'rph', 'rpoB', 'tdk', 'ygaH', 'ygaZ']\n",
      "\n",
      "BUT7-7 ['manY', 'oppA', 'pyrE', 'rob', 'rph', 'ychE', 'yebO', 'yobF'] ['insH1', 'manY', 'mppA', 'pgrR', 'pyrE', 'rob', 'rph', 'yebO', 'ynaI', 'yobF']\n",
      "\n",
      "OCTA5-8 ['gtrS', 'hns', 'oppA', 'recE', 'rpoC', 'tdk', 'ychE', 'ydcI', 'yihQ', 'yihR'] ['gtrS', 'hns', 'recE', 'rpoC', 'tdk', 'ydcI', 'yihQ', 'yihR']\n",
      "\n",
      "GLUT1-10 ['gltW', 'greA', 'hofM', 'kgtP', 'oppA', 'proV', 'rrfG', 'rrlG', 'rrsG', 'spoT', 'ychE', 'yiaT', 'yiaU'] ['gltW', 'greA', 'hofM', 'kgtP', 'proV', 'rrfG', 'rrlG', 'rrsG', 'spoT', 'yiaT', 'yiaU']\n",
      "\n",
      "GLUT4-10 ['csiD', 'kgtP', 'oppA', 'rpoC', 'spoT', 'ychE', 'ygaQ'] ['csiD', 'kgtP', 'rpoC', 'spoT', 'ygaQ']\n",
      "\n",
      "23BD1-6 ['elfA', 'gabP', 'metJ', 'nanK', 'purT', 'rnb', 'rpoB'] ['barA', 'elfA', 'gabP', 'gudD', 'metJ', 'nanK', 'purT', 'relA', 'rlmD', 'rnb', 'rpoB']\n",
      "\n",
      "HEXA8-2 ['cydA', 'mngB', 'murG', 'ompC', 'oppA', 'rcsD', 'rpoA', 'sapB', 'ychE', 'yedP'] ['cydA', 'mngB', 'murG', 'ompC', 'rcsD', 'rpoA', 'sapB', 'yedP']\n",
      "\n",
      "ADIP4-1 ['oppA', 'ychE'] []\n",
      "\n",
      "HEXA3-7 ['mdtK', 'oppA', 'rpoA', 'rpoC', 'ychE', 'yfjL'] ['mdtK', 'rpoA', 'rpoC', 'yfjL']\n",
      "\n",
      "GLUT8-9 ['kgtP', 'oppA', 'polB', 'proV', 'rpoC', 'sapC', 'sdaC', 'ychE', 'yobF'] ['kgtP', 'polB', 'proV', 'rpoC', 'sapC', 'sdaC', 'yobF']\n",
      "\n",
      "23BD7-4 ['elfD', 'flu', 'metJ', 'nanK', 'oppA', 'purT', 'rpoC', 'tolC', 'treR', 'ychE', 'yhjA'] ['barA', 'elfD', 'flu', 'gudD', 'metJ', 'nanK', 'purT', 'relA', 'rlmD', 'rpoC', 'tolC', 'treR', 'yhjA']\n",
      "\n",
      "BUT7-9 ['manY', 'oppA', 'pyrE', 'rob', 'rph', 'ychE', 'yebO', 'yobF'] ['insH1', 'manY', 'mppA', 'pgrR', 'pyrE', 'rob', 'rph', 'yebO', 'ynaI', 'yobF']\n",
      "\n",
      "COUM3-1 ['atpI', 'dacA', 'hns', 'manY', 'pyrE', 'rho', 'rph', 'rpoB', 'tdk'] ['atpI', 'dacA', 'eyeA', 'hns', 'insH1', 'insI1', 'insN', 'manY', 'mprA', 'perR', 'proA', 'proB', 'pyrE', 'rho', 'rph', 'rpoB', 'tdk', 'thrW', 'yafW', 'yafX', 'yafY', 'yafZ', 'ygaH', 'ygaZ', 'ykfA', 'ykfB', 'ykfC', 'ykfF', 'ykfG', 'ykfH', 'ykfI', 'ykfK', 'ykfL', 'ykfN']\n",
      "\n",
      "OCTA5-9 ['oppA', 'rpoC', 'ychE', 'ydcI', 'yihQ', 'yihR'] ['rpoC', 'ydcI', 'yihQ', 'yihR']\n",
      "\n",
      "ADIP7-5 ['idnR', 'kgtP', 'oppA', 'proV', 'sspA', 'ybjL', 'ychE'] ['idnR', 'kgtP', 'proV', 'sspA', 'ybjL']\n",
      "\n",
      "GLUT2-9 ['kgtP', 'oppA', 'rnb', 'spoT', 'ychE'] ['kgtP', 'rnb', 'spoT']\n",
      "\n",
      "GLUT3-5 ['kgtP', 'oppA', 'rpoC', 'spoT', 'ychE'] ['kgtP', 'rpoC', 'spoT']\n",
      "\n",
      "OCTA4-9 ['mrdB', 'oppA', 'rpoA', 'trkH', 'ychE'] ['mrdB', 'rpoA', 'trkH']\n",
      "\n",
      "ADIP3-8 ['kgtP', 'nagA', 'nrdF', 'oppA', 'proV', 'pyrE', 'sspA', 'ybjL', 'ychE', 'yicC'] ['kgtP', 'nagA', 'nrdF', 'proV', 'pyrE', 'sspA', 'ybjL', 'yicC']\n",
      "\n",
      "ADIP7-2 ['hns', 'kgtP', 'lsrK', 'oppA', 'pstS', 'rpoS', 'tdk', 'yagL', 'ychE', 'yneO'] ['hns', 'kgtP', 'lsrK', 'pstS', 'rpoS', 'tdk', 'yagL', 'yneO']\n",
      "\n",
      "PUTR5-8 ['oppA', 'rpoC', 'rpoD', 'ychE'] ['rpoC', 'rpoD']\n",
      "\n",
      "12PD6-9 ['fabR', 'oppA', 'rpoA', 'ychE', 'ypjA'] ['fabR', 'rpoA', 'ypjA']\n",
      "\n",
      "HMDA8-5 ['cynR', 'lhr', 'mdtK', 'nagC', 'oppA', 'proV', 'pyrE', 'rnt', 'rph', 'xapR', 'ychE'] ['cynR', 'lhr', 'mdtK', 'nagC', 'proV', 'pyrE', 'rnt', 'rph', 'xapR']\n",
      "\n",
      "23BD1-9 ['elfA', 'metJ', 'nanK', 'oppA', 'purT', 'rhsA', 'rnb', 'rpoB', 'ychE'] ['barA', 'elfA', 'gudD', 'metJ', 'nanK', 'purT', 'relA', 'rhsA', 'rlmD', 'rnb', 'rpoB']\n",
      "\n",
      "COUM7-5 ['manY', 'mprA', 'oppA', 'prlF', 'pyrE', 'rho', 'rph', 'ychE', 'ydjH', 'ypjA'] ['manY', 'mprA', 'prlF', 'pyrE', 'rho', 'rph', 'ydjH', 'ypjA']\n",
      "\n",
      "COUM8-1 ['manY', 'pyrE', 'rho', 'rph', 'thrA', 'yhjK'] ['emrA', 'emrB', 'manY', 'mprA', 'nrdE', 'nrdF', 'proV', 'proW', 'proX', 'pyrE', 'rho', 'rph', 'thrA', 'ygaH', 'ygaY', 'ygaZ', 'yhjK']\n",
      "\n",
      "BUT9-7 ['manY', 'marC', 'oppA', 'pyrE', 'rob', 'rph', 'rraA', 'ychE'] ['manY', 'marC', 'pyrE', 'rob', 'rph', 'rraA']\n",
      "\n",
      "23BD5-10 ['metJ', 'nanK', 'rpoC'] ['barA', 'gudD', 'metJ', 'nanK', 'relA', 'rlmD', 'rpoC']\n",
      "\n",
      "23BD5-1 ['metJ', 'oppA', 'purT', 'relA', 'rpoC', 'spoT', 'umuD', 'ychE', 'yeaR'] ['metJ', 'purT', 'relA', 'rpoC', 'spoT', 'umuD', 'yeaR']\n",
      "\n",
      "COUM3-9 ['atpI', 'dacA', 'hns', 'lysQ', 'lysW', 'lysY', 'lysZ', 'manY', 'oppA', 'pyrE', 'rho', 'rph', 'rpoB', 'tdk', 'valT', 'valZ', 'ychE'] ['atpI', 'dacA', 'hns', 'lysQ', 'lysW', 'lysY', 'lysZ', 'manY', 'mprA', 'pyrE', 'rho', 'rph', 'rpoB', 'tdk', 'valT', 'valZ', 'ygaH', 'ygaZ']\n",
      "\n",
      "BUT1-3 ['cspC', 'manY', 'mdtJ', 'oppA', 'pyrE', 'rob', 'rph', 'tqsA', 'ychE'] ['cspC', 'manY', 'mdtJ', 'pyrE', 'rob', 'rph', 'tqsA']\n",
      "\n",
      "COUM6-9 ['fimC', 'manY', 'nusA', 'oppA', 'pyrE', 'rho', 'rnb', 'rph', 'ychE', 'yhgE', 'yjiP'] ['fimC', 'manY', 'nusA', 'pyrE', 'rho', 'rnb', 'rph', 'yhgE', 'yjiP']\n",
      "\n",
      "PUTR8-3 ['argG', 'mreB', 'oppA', 'proX', 'pyrE', 'rph', 'rpsG', 'spoT', 'ychE'] ['argG', 'mreB', 'proX', 'pyrE', 'rph', 'rpsG', 'spoT']\n",
      "\n",
      "OCTA4-13 ['mreB', 'oppA', 'rpoA', 'sapD', 'ychE'] ['mreB', 'rpoA', 'sapD']\n",
      "\n",
      "BUT6-3 ['manY', 'oppA', 'pyrE', 'rob', 'rph', 'rrlH', 'ychE', 'yobF'] ['glsB', 'lsrF', 'lsrG', 'manY', 'marC', 'pyrE', 'rob', 'rph', 'rrlH', 'sad', 'tam', 'uxaB', 'ydeA', 'yneE', 'yneF', 'yneG', 'yneJ', 'yneK', 'yobF']\n",
      "\n",
      "HEXA8-1 ['barA', 'cydA', 'mngB', 'murG', 'ompC', 'oppA', 'rcsD', 'rpoA', 'sapB', 'ychE', 'yedP'] ['barA', 'cydA', 'mngB', 'murG', 'ompC', 'rcsD', 'rpoA', 'sapB', 'yedP']\n",
      "\n",
      "IBUA8-4 ['glyQ', 'ilvH', 'pykF', 'rph'] ['amyA', 'dcm', 'dcyD', 'dsrA', 'dsrB', 'fliA', 'fliC', 'fliD', 'fliE', 'fliF', 'fliG', 'fliH', 'fliI', 'fliJ', 'fliK', 'fliL', 'fliM', 'fliN', 'fliO', 'fliP', 'fliQ', 'fliR', 'fliS', 'fliT', 'fliY', 'fliZ', 'glyQ', 'ilvH', 'intG', 'pykF', 'rcsA', 'rph', 'rseX', 'sdiA', 'vsr', 'yecC', 'yecF', 'yecS', 'yedA', 'yedD', 'yedE', 'yedF', 'yedI', 'yedJ', 'yedK', 'yedL', 'yedN', 'yedP', 'yedQ', 'yedR', 'yedS', 'yodC', 'yodD']\n",
      "\n",
      "23BD2-9 ['metJ', 'nanK', 'rpoC', 'rpsA', 'ybcW', 'ylcI'] ['barA', 'gudD', 'metJ', 'nanK', 'relA', 'rlmD', 'rpoC', 'rpsA', 'ybcW', 'ylcI']\n",
      "\n",
      "23BD8-2 ['iscR', 'lon', 'oppA', 'pyrE', 'relA', 'rph', 'rpoB', 'ychE', 'ygaH'] ['iscR', 'lon', 'pyrE', 'relA', 'rph', 'rpoB', 'ygaH']\n",
      "\n",
      "HEXA3-9 ['mdtK', 'oppA', 'rpoA', 'rpoC', 'ychE', 'yfjL'] ['mdtK', 'rpoA', 'rpoC', 'yfjL']\n",
      "\n",
      "BUT6-1 ['manY', 'oppA', 'pyrE', 'rob', 'rph', 'rrlH', 'ychE', 'yobF'] ['glsB', 'lsrF', 'lsrG', 'manY', 'marC', 'pyrE', 'rob', 'rph', 'rrlH', 'sad', 'tam', 'uxaB', 'ydeA', 'yneE', 'yneF', 'yneG', 'yneJ', 'yneK', 'yobF']\n",
      "\n",
      "BUT1-2 ['cspC', 'manY', 'mdtJ', 'oppA', 'purP', 'pyrE', 'rob', 'rph', 'tqsA', 'ychE'] ['cspC', 'manY', 'mdtJ', 'purP', 'pyrE', 'rob', 'rph', 'tqsA']\n",
      "\n",
      "ADIP3-4 ['kgtP', 'mltD', 'nrdF', 'oppA', 'proV', 'pyrE', 'sspA', 'ybjL', 'ychE', 'yeaR', 'yhiL', 'yicC'] ['kgtP', 'mltD', 'nrdF', 'proV', 'pyrE', 'sspA', 'ybjL', 'yeaR', 'yhiL', 'yicC']\n",
      "\n",
      "BUT1-5 ['manY', 'oppA', 'pyrE', 'rob', 'rph', 'tqsA', 'ycaN', 'ychE', 'yobF'] ['manY', 'pyrE', 'rob', 'rph', 'tqsA', 'ycaN', 'yobF']\n",
      "\n",
      "COUM2-4 ['argS', 'atpI', 'ccmA', 'murC', 'nadR', 'oppA', 'rhaT', 'rho', 'rpoC', 'rsmG', 'sapF', 'ychE', 'yecT'] ['argS', 'atpI', 'ccmA', 'murC', 'nadR', 'rhaT', 'rho', 'rpoC', 'rsmG', 'sapF', 'yecT']\n",
      "\n",
      "23BD7-5 ['acrB', 'elfD', 'flu', 'metJ', 'nanK', 'purT', 'rpoC'] ['acrB', 'barA', 'elfD', 'flu', 'gudD', 'metJ', 'nanK', 'purT', 'relA', 'rlmD', 'rpoC']\n",
      "\n",
      "COUM8-6 ['oppA', 'pyrE', 'rho', 'rph', 'ychE', 'yhjK'] ['emrA', 'emrB', 'mprA', 'nrdE', 'nrdF', 'proV', 'proW', 'proX', 'pyrE', 'rho', 'rph', 'ygaH', 'ygaY', 'ygaZ', 'yhjK']\n",
      "\n",
      "IBUA6-9 ['glyQ', 'oppA', 'prfA', 'pykF', 'rne', 'rpoC', 'ybbW', 'ychE', 'yjcE', 'yjcF'] ['glyQ', 'prfA', 'pykF', 'rne', 'rpoC', 'ybbW', 'yjcE', 'yjcF']\n",
      "\n",
      "COUM7-6 ['manY', 'mgrB', 'mprA', 'oppA', 'pyrE', 'rho', 'rph', 'rpoB', 'ychE', 'yobH', 'ypjA'] ['manY', 'mgrB', 'mprA', 'pyrE', 'rho', 'rph', 'rpoB', 'yobH', 'ypjA']\n",
      "\n",
      "BUT7-6 ['manY', 'pyrE', 'rob', 'rph', 'rrlH', 'rrsA', 'yebO', 'yobF'] ['insH1', 'manY', 'mppA', 'pgrR', 'pyrE', 'rob', 'rph', 'rrlH', 'rrsA', 'yebO', 'ynaI', 'yobF']\n",
      "\n",
      "IBUA2-1 ['bglF', 'bglG', 'oppA', 'pykF', 'rpoC', 'rpsC', 'sapD', 'ychE', 'ydhZ', 'yijD', 'yobF'] ['bglF', 'bglG', 'pykF', 'rpoC', 'rpsC', 'sapD', 'ydhZ', 'yijD', 'yobF']\n",
      "\n",
      "23BD7-7 ['elfD', 'flu', 'metJ', 'nanK', 'purT', 'rpoC', 'tolC', 'treR', 'yhjA'] ['barA', 'elfD', 'flu', 'gudD', 'metJ', 'nanK', 'purT', 'relA', 'rlmD', 'rpoC', 'tolC', 'treR', 'yhjA']\n",
      "\n",
      "23BD8-7 ['iscR', 'lacZ', 'metJ', 'oppA', 'pyrE', 'relA', 'rph', 'rpoB', 'ychE', 'ygaH'] ['iscR', 'lacZ', 'metJ', 'pyrE', 'relA', 'rph', 'rpoB', 'ygaH']\n",
      "\n",
      "HEXA8-5 ['murG', 'ompC', 'oppA', 'rcsD', 'rpoA', 'rpoC', 'sapB', 'ychE', 'yedP'] ['murG', 'ompC', 'rcsD', 'rpoA', 'rpoC', 'sapB', 'yedP']\n",
      "\n",
      "ADIP2-5 ['alaE', 'kgtP', 'lacY', 'nagC', 'nrdE', 'nrdF', 'nrdH', 'nrdI', 'oppA', 'proV', 'proW', 'proX', 'rph', 'ychE', 'ygaC', 'ygaM', 'ygaY'] ['alaE', 'kgtP', 'lacY', 'nagC', 'nrdE', 'nrdF', 'nrdH', 'nrdI', 'proV', 'proW', 'proX', 'rph', 'ygaC', 'ygaM', 'ygaY']\n",
      "\n",
      "OCTA5-4 ['gtrS', 'oppA', 'rpoC', 'ychE', 'ydcI', 'yihQ', 'yihR'] ['gtrS', 'rpoC', 'ydcI', 'yihQ', 'yihR']\n",
      "\n",
      "BUT6-8 ['manY', 'oppA', 'pyrE', 'rob', 'rph', 'rrlA', 'rrlH', 'ychE', 'yobF'] ['glsB', 'lsrF', 'lsrG', 'manY', 'marC', 'pyrE', 'rob', 'rph', 'rrlA', 'rrlH', 'sad', 'tam', 'uxaB', 'ydeA', 'yneE', 'yneF', 'yneG', 'yneJ', 'yneK', 'yobF']\n",
      "\n",
      "COUM5-8 ['atpI', 'focA', 'mrdA', 'oppA', 'rho', 'rpoC', 'sapF', 'tufA', 'ychE', 'ydiJ', 'ypjC'] ['atpI', 'focA', 'mrdA', 'rho', 'rpoC', 'sapF', 'tufA', 'ydiJ', 'ypjC']\n",
      "\n",
      "OCTA7-9 ['dusB', 'mreC', 'oppA', 'prmA', 'pyrE', 'rph', 'rpoC', 'stfE', 'ycfQ', 'ychE', 'yfcZ'] ['dusB', 'mreC', 'prmA', 'pyrE', 'rph', 'rpoC', 'stfE', 'ycfQ', 'yfcZ']\n",
      "\n",
      "BUT3-6 ['manY', 'marC', 'mdtJ', 'oppA', 'pheU', 'pyrE', 'rph', 'tqsA', 'ychE', 'yobF'] ['manY', 'marC', 'mdtJ', 'pheU', 'pyrE', 'rph', 'tqsA', 'yobF']\n",
      "\n",
      "OCTA1-5 ['insH1', 'lit', 'mreB', 'narP', 'oppA', 'rpoA', 'rpoC', 'sapA', 'ychE', 'ymfE'] ['insH1', 'lit', 'mreB', 'narP', 'rpoA', 'rpoC', 'sapA', 'ymfE']\n",
      "\n",
      "COUM2-7 ['atpI', 'murC', 'nadR', 'oppA', 'rho', 'rpoC', 'rrfF', 'rsmG', 'sapF', 'thrV', 'ychE'] ['atpI', 'murC', 'nadR', 'rho', 'rpoC', 'rrfF', 'rsmG', 'sapF', 'thrV']\n",
      "\n",
      "BUT3-7 ['manY', 'marC', 'mdtJ', 'oppA', 'pheU', 'pyrE', 'rph', 'tqsA', 'ychE', 'yobF'] ['manY', 'marC', 'mdtJ', 'pheU', 'pyrE', 'rph', 'tqsA', 'yobF']\n",
      "\n",
      "GLUT1-3 ['gltW', 'kgtP', 'oppA', 'rnb', 'rpoC', 'rrfG', 'rrlG', 'rrsG', 'spoT', 'ychE', 'ydfI'] ['gltW', 'kgtP', 'rnb', 'rpoC', 'rrfG', 'rrlG', 'rrsG', 'spoT', 'ydfI']\n",
      "\n",
      "23BD6-1 ['metJ', 'nusG', 'purT', 'relA', 'rpoC'] ['borD', 'essD', 'insH1', 'metJ', 'nmpC', 'nusG', 'purT', 'relA', 'rpoC', 'rrrD', 'rzoD', 'rzpD']\n",
      "\n",
      "IBUA2-6 ['bglF', 'bglG', 'oppA', 'pykF', 'rpoC', 'sapD', 'ychE', 'ydhZ', 'yijD', 'yobF'] ['bglF', 'bglG', 'pykF', 'rpoC', 'sapD', 'ydhZ', 'yijD', 'yobF']\n",
      "\n",
      "ADIP2-6 ['alaE', 'kgtP', 'lacY', 'nrdE', 'nrdF', 'nrdH', 'nrdI', 'oppA', 'proV', 'proW', 'proX', 'rph', 'ychE', 'ygaC', 'ygaM', 'ygaY'] ['alaE', 'kgtP', 'lacY', 'nrdE', 'nrdF', 'nrdH', 'nrdI', 'proV', 'proW', 'proX', 'rph', 'ygaC', 'ygaM', 'ygaY']\n",
      "\n",
      "OCTA1-3 ['arpA', 'mreB', 'oppA', 'rpoA', 'sapB', 'ychE'] ['arpA', 'mreB', 'rpoA', 'sapB']\n",
      "\n",
      "OCTA2-14 ['dusB', 'lysQ', 'oppA', 'prmA', 'rlmH', 'stfE', 'ychE'] ['dusB', 'lysQ', 'prmA', 'rlmH', 'stfE']\n",
      "\n",
      "23BD4-7 ['metJ', 'nanK', 'oppA', 'rpoC', 'ychE'] ['barA', 'gudD', 'metJ', 'nanK', 'relA', 'rlmD', 'rpoC']\n",
      "\n",
      "23BD2-7 ['metJ', 'nanK', 'rpoC', 'rpsA', 'serX', 'ybcW', 'ycdU', 'ylcI'] ['barA', 'gudD', 'metJ', 'nanK', 'relA', 'rlmD', 'rpoC', 'rpsA', 'serX', 'ybcW', 'ycdU', 'ylcI']\n",
      "\n"
     ]
    }
   ],
   "source": [
    "for k in old_genotypes:\n",
    "    if set(new_genotypes[k]) != set(old_genotypes[k]):\n",
    "        print(k, sorted(new_genotypes[k]), sorted(old_genotypes[k]))\n",
    "        print()"
   ]
  },
  {
   "cell_type": "code",
   "execution_count": null,
   "metadata": {
    "collapsed": true
   },
   "outputs": [],
   "source": [
    "len()"
   ]
  }
 ],
 "metadata": {
  "anaconda-cloud": {},
  "kernelspec": {
   "display_name": "Python [tolerance]",
   "language": "python",
   "name": "Python [tolerance]"
  },
  "language_info": {
   "codemirror_mode": {
    "name": "ipython",
    "version": 3
   },
   "file_extension": ".py",
   "mimetype": "text/x-python",
   "name": "python",
   "nbconvert_exporter": "python",
   "pygments_lexer": "ipython3",
   "version": "3.5.2"
  }
 },
 "nbformat": 4,
 "nbformat_minor": 0
}

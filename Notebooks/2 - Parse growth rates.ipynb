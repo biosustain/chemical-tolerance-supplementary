{
 "cells": [
  {
   "cell_type": "markdown",
   "metadata": {},
   "source": [
    "# Parse growth rates"
   ]
  },
  {
   "cell_type": "markdown",
   "metadata": {},
   "source": [
    "This notebook reads the output from croissance and extracts the relevant growth rates and associates them with the right strains using the plate layouts."
   ]
  },
  {
   "cell_type": "code",
   "execution_count": 1,
   "metadata": {
    "collapsed": false
   },
   "outputs": [],
   "source": [
    "from croissance_parsing import parse_plate_data # Local module in this directory\n",
    "import pandas as pd\n",
    "import xlrd\n",
    "import json"
   ]
  },
  {
   "cell_type": "markdown",
   "metadata": {},
   "source": [
    "## Initial screens (Biolector)"
   ]
  },
  {
   "cell_type": "code",
   "execution_count": 2,
   "metadata": {
    "collapsed": true
   },
   "outputs": [],
   "source": [
    "data_dir = \"../Data/Growth_data/initial_tolerance_tests/\"\n",
    "screen_exps = {\n",
    "    'butanol': 'tolerance_012714_butanol_coumarate.xlsx',\n",
    "    'glutarate': 'tolerance_021014_coumarate_glutarate.xlsx',\n",
    "    'coumarate': 'tolerance_021014_coumarate_glutarate.xlsx',\n",
    "    'putrescine': 'tolerance_021114_adipic-acid_putrescine.xlsx',\n",
    "    'HMDA': 'tolerance_012814_HDMA_6-aminohexanoic.xlsx',\n",
    "    'adipate': 'tolerance_031914_adipate_propionate.xlsx',\n",
    "    'isobutyrate': 'tolerance_040214_2,5-furandicarboxylate_isobutyrate.xlsx',\n",
    "    'hexanoate': 'tolerance_021214_2,3-butanediol_hexanoic-acid.xlsx',\n",
    "    '2,3-butanediol': 'tolerance_021214_2,3-butanediol_hexanoic-acid.xlsx',\n",
    "    '1,2-propanediol': 'tolerance_032914_1,2-pentanediol_1,2-propanediol.xlsx',\n",
    "    'octanoate': 'tolerance_081914_octanoate_caffeate.xlsx',\n",
    "}"
   ]
  },
  {
   "cell_type": "code",
   "execution_count": 3,
   "metadata": {
    "collapsed": false
   },
   "outputs": [],
   "source": [
    "def parse_content(string):\n",
    "    \"\"\"Parse the media content of a well in the excel layout file\"\"\"\n",
    "    string = string.replace(\"%\", \" %\")\n",
    "    try:\n",
    "        conc, unit, comp, *junk = string.split()\n",
    "    except ValueError:\n",
    "        raise ValueError(string)\n",
    "    assert unit.lower() in (\"g/l\", \"v/v\", \"%\"), unit\n",
    "    conc = float(conc)\n",
    "    return conc, unit, comp\n",
    "\n",
    "# Read the excel files\n",
    "layouts = {}\n",
    "for comp, filename in screen_exps.items():\n",
    "    layouts[comp] = {}\n",
    "    workbook = xlrd.open_workbook(data_dir+\"raw Biolector data/\"+filename)\n",
    "    sheet = workbook.sheet_by_name(\"subtracted\")\n",
    "    for well, content in zip(sheet.col_slice(0), sheet.col_slice(2)):\n",
    "        well, content = well.value, content.value\n",
    "        if well == \"\":\n",
    "            continue\n",
    "        # Skip any cells containing \"pentane\" to not confuse 12-propanediol with 12-pentanediol\n",
    "        if comp[:4] in content and \"pentane\" not in content: \n",
    "            layouts[comp][well] = parse_content(content)"
   ]
  },
  {
   "cell_type": "code",
   "execution_count": 11,
   "metadata": {
    "collapsed": false
   },
   "outputs": [],
   "source": [
    "# Parse the growth phases from the croissance output\n",
    "growth_rates = {}\n",
    "for comp, name in screen_exps.items():\n",
    "    growth_rates[comp] = {}\n",
    "    name = name.split(\".\")[0] + \".OD.v2.output.json\"\n",
    "    with open(data_dir + \"output/\" + name) as infile:\n",
    "        json_data = json.load(infile)\n",
    "        curves = json_data[\"curves\"]\n",
    "    data = parse_plate_data(\n",
    "        curves,\n",
    "        phase_length_cutoff=3,\n",
    "        max_abs_baseline=4,\n",
    "        max_baseline_dev=4,\n",
    "        time_cutoff=20,\n",
    "        verbose=False\n",
    "    )\n",
    "    for well in layouts[comp]:\n",
    "        growth_rates[comp][well] = data[well]['slope']"
   ]
  },
  {
   "cell_type": "code",
   "execution_count": 7,
   "metadata": {
    "collapsed": true
   },
   "outputs": [],
   "source": [
    "data = []\n",
    "for comp in layouts:\n",
    "    for well, (conc, unit, med) in layouts[comp].items():\n",
    "        data.append(\n",
    "            {\"compound\": comp, \"conc\": conc,\n",
    "             \"growth_rate\": growth_rates[comp][well],\n",
    "             \"medium\": med, \"unit\": unit, \"well\": well}\n",
    "        )\n",
    "df = pd.DataFrame(data)\n",
    "df.to_csv(\"../Data/Growth_data/initial_tolerance_tests/Initial_tolerance_data_frame.tsv\", sep=\"\\t\", index=None)"
   ]
  },
  {
   "cell_type": "markdown",
   "metadata": {},
   "source": [
    "## Evolved isolate screening (Biolector)"
   ]
  },
  {
   "cell_type": "code",
   "execution_count": 16,
   "metadata": {
    "collapsed": true
   },
   "outputs": [],
   "source": [
    "data_dir = \"../Data/Growth_data/evolved-isolate-growth-data/\"\n",
    "exp_list = {\n",
    "    'ALE_1,2-propanediol_duplicates_121514': \"1,2-propanediol\",\n",
    "    'ALE_2,3-butanediol_duplicates_122414': \"2,3-butanediol\",\n",
    "    'ALE_adipate_duplicates_091014': \"adipate\",\n",
    "    'ALE_butanol_duplicates_060514': \"butanol\",\n",
    "    'ALE_coumarate_duplicates_061914': \"coumarate\",\n",
    "    'ALE_glutarate_duplicates_060214': \"glutarate\",\n",
    "    'ALE_HDMA_duplicates_080114': \"HMDA\",\n",
    "    'ALE_hexanoate_duplicates_101314': \"hexanoate\",\n",
    "    'ALE_isobutyrate_duplicates_091114': \"isobutyrate\",\n",
    "    'ALE_octanoate_duplicates_122214': \"octanoate\",\n",
    "    'ALE_putrescine_duplicates_073014': \"putrescine\",\n",
    "}"
   ]
  },
  {
   "cell_type": "code",
   "execution_count": 17,
   "metadata": {
    "collapsed": false
   },
   "outputs": [],
   "source": [
    "layouts = {}\n",
    "for exp, comp in exp_list.items():\n",
    "    date = exp.split(\"_\")[-1]\n",
    "    excel_name = exp + \".xlsx\"\n",
    "    layouts[exp] = {}\n",
    "    workbook = xlrd.open_workbook(data_dir + \"raw Biolector data/\" + excel_name)\n",
    "    sheet = workbook.sheet_by_name(\"subtracted\")\n",
    "    for well, strain in zip(sheet.col_slice(0), sheet.col_slice(2)):\n",
    "        well, strain = well.value, strain.value\n",
    "        if well == \"\":\n",
    "            continue\n",
    "        layouts[exp][well] = strain"
   ]
  },
  {
   "cell_type": "code",
   "execution_count": 18,
   "metadata": {
    "collapsed": true
   },
   "outputs": [],
   "source": [
    "growth_rates = {}\n",
    "for exp in exp_list:\n",
    "    growth_rates[exp] = {}\n",
    "    with open(data_dir + \"output/\" + exp + \".v2.output.json\") as f:\n",
    "        json_data = json.load(f)\n",
    "    curves = json_data[\"curves\"]\n",
    "    data = parse_plate_data(\n",
    "        curves,\n",
    "        phase_length_cutoff=3,\n",
    "        max_abs_baseline=3,\n",
    "        max_baseline_dev=3,\n",
    "        verbose=False\n",
    "    )\n",
    "    for well in layouts[exp]:\n",
    "        growth_rates[exp][well] = data[well][\"slope\"]"
   ]
  },
  {
   "cell_type": "code",
   "execution_count": null,
   "metadata": {
    "collapsed": true
   },
   "outputs": [],
   "source": [
    "def parse_strain(strain):\n",
    "    if strain.startswith(\"MG1655\"):\n",
    "        strain = strain.replace(\"-\", \"_\")\n",
    "    strain, repl = strain.split(\"_\", 1)\n",
    "    repl = int(repl)\n",
    "    return strain, repl\n",
    "\n",
    "data = []\n",
    "for exp, comp in exp_list.items():\n",
    "    for well, strain in layouts[exp].items():\n",
    "        strain, repl = parse_strain(strain)\n",
    "        if \"HDMA\" in strain:\n",
    "            strain = strain.replace(\"HDMA\", \"HMDA\")\n",
    "        gr = growth_rates[exp][well]\n",
    "        data.append(\n",
    "            {\"compound\": comp, \"strain\": strain, \"growth_rate\": gr,\n",
    "             \"experiment\": exp, \"well\": well, \"repl\": repl}\n",
    "        )\n",
    "df = pd.DataFrame(data)\n",
    "df.to_csv(\"../Data/Growth_data/evolved-isolate-growth-data/Evolved_isolates_data_frame.tsv\",)"
   ]
  }
 ],
 "metadata": {
  "anaconda-cloud": {},
  "kernelspec": {
   "display_name": "Python [tolerance]",
   "language": "python",
   "name": "Python [tolerance]"
  },
  "language_info": {
   "codemirror_mode": {
    "name": "ipython",
    "version": 3
   },
   "file_extension": ".py",
   "mimetype": "text/x-python",
   "name": "python",
   "nbconvert_exporter": "python",
   "pygments_lexer": "ipython3",
   "version": "3.5.2"
  }
 },
 "nbformat": 4,
 "nbformat_minor": 0
}
